{
 "nbformat": 4,
 "nbformat_minor": 0,
 "metadata": {
  "colab": {
   "provenance": []
  },
  "kernelspec": {
   "name": "python3",
   "display_name": "Python 3"
  },
  "language_info": {
   "name": "python"
  }
 },
 "cells": [
  {
   "cell_type": "code",
   "source": [
    "import pandas as pd\n"
   ],
   "metadata": {
    "id": "4ff3ELw9Ms50"
   },
   "execution_count": null,
   "outputs": []
  },
  {
   "source": [
    "df1 = pd.read_csv('../data/bot_detection_data.csv')\n",
    "\n",
    "# Now you can proceed with counting unique User IDs as shown above\n",
    "unique_user_ids = df1['User ID'].nunique()\n",
    "\n",
    "print(f\"The number of unique User IDs is: {unique_user_ids}\")"
   ],
   "cell_type": "code",
   "metadata": {
    "colab": {
     "base_uri": "https://localhost:8080/"
    },
    "id": "4pQ7bbpUH8T9",
    "outputId": "8fad8db5-a07d-4746-fd1f-6014fb8a2976"
   },
   "execution_count": null,
   "outputs": [
    {
     "output_type": "stream",
     "name": "stdout",
     "text": [
      "The number of unique User IDs is: 50000\n"
     ]
    }
   ]
  },
  {
   "cell_type": "code",
   "source": [
    "df2 = pd.read_csv('processed_users.csv')\n",
    "# Get the unique User IDs from each DataFrame\n",
    "user_ids_df1 = set(df1['User ID'])\n",
    "user_ids_df2 = set(df2['userid'])\n",
    "\n",
    "\n",
    "intersection_user_ids = user_ids_df1.intersection(user_ids_df2)\n",
    "\n",
    "print(f\"Number of intersecting User IDs: {len(intersection_user_ids)}\")\n",
    "# print(\"Intersecting User IDs:\", intersection_user_ids)"
   ],
   "metadata": {
    "colab": {
     "base_uri": "https://localhost:8080/"
    },
    "id": "_txfkUbEIdVK",
    "outputId": "eafb3d28-8920-42c0-a4de-20d311838573"
   },
   "execution_count": null,
   "outputs": [
    {
     "output_type": "stream",
     "name": "stdout",
     "text": [
      "Number of intersecting User IDs: 6\n"
     ]
    }
   ]
  },
  {
   "cell_type": "code",
   "source": [
    "bot_records_df1 = df1[df1['Bot Label'] == 1]\n",
    "\n",
    "# Count the number of rows in the filtered DataFrame\n",
    "num_bot_records = len(bot_records_df1)\n",
    "\n",
    "print(f\"The number of records in df1 with 'Bot label' equal to 1 is: {num_bot_records}\")"
   ],
   "metadata": {
    "colab": {
     "base_uri": "https://localhost:8080/"
    },
    "id": "NStg9JEIJWaG",
    "outputId": "5bf57ea8-23f2-46a4-a5f3-7ca33d321d50"
   },
   "execution_count": null,
   "outputs": [
    {
     "output_type": "stream",
     "name": "stdout",
     "text": [
      "The number of records in df1 with 'Bot label' equal to 1 is: 25018\n"
     ]
    }
   ]
  },
  {
   "cell_type": "code",
   "source": [
    "df_bot_only = df1[df1['Bot Label'] == 1].copy()\n",
    "user_ids_df1 = set(df_bot_only['User ID'])\n",
    "user_ids_df2 = set(df2['userid'])\n",
    "\n",
    "\n",
    "intersection_user_ids = user_ids_df1.intersection(user_ids_df2)\n",
    "print(f\"Number of intersecting User IDs: {len(intersection_user_ids)}\")\n",
    "print(\"Intersecting User IDs:\", intersection_user_ids)\n"
   ],
   "metadata": {
    "colab": {
     "base_uri": "https://localhost:8080/"
    },
    "id": "A461aQ76KK_f",
    "outputId": "bbe554c9-de00-456f-8290-c24a44c8169a"
   },
   "execution_count": null,
   "outputs": [
    {
     "output_type": "stream",
     "name": "stdout",
     "text": [
      "Number of intersecting User IDs: 4\n",
      "Intersecting User IDs: {784609, 862771, 814227, 875641}\n"
     ]
    }
   ]
  },
  {
   "cell_type": "code",
   "source": [
    "# Create a boolean mask: True for rows where 'User ID' is NOT in intersection_user_ids\n",
    "mask_to_keep = ~df_bot_only['User ID'].isin(intersection_user_ids)\n",
    "\n",
    "# Filter the df_bot_only DataFrame using the mask\n",
    "df_bot_only_filtered = df_bot_only[mask_to_keep].copy()\n",
    "\n",
    "# Now df_bot_only_filtered contains the records from df_bot_only\n",
    "# that do not have User IDs present in intersection_user_ids\n",
    "\n",
    "print(f\"Number of records remaining in df_bot_only after removal: {len(df_bot_only_filtered)}\")"
   ],
   "metadata": {
    "colab": {
     "base_uri": "https://localhost:8080/"
    },
    "id": "OcTorp_KLhXY",
    "outputId": "fbe5883d-4a5f-4f93-ea9e-4becca517113"
   },
   "execution_count": null,
   "outputs": [
    {
     "output_type": "stream",
     "name": "stdout",
     "text": [
      "Number of records remaining in df_bot_only after removal: 25014\n"
     ]
    }
   ]
  },
  {
   "cell_type": "code",
   "source": [
    "# Rename the columns\n",
    "df_bot_only_filtered.rename(columns={\n",
    "    \"User ID\": \"userid\",\n",
    "    \"Retweet Count\": \"avg_retweetcount\",\n",
    "    \"Follower Count\": \"followers\",\n",
    "    \"Bot Label\": \"label\"\n",
    "}, inplace=True)\n",
    "print(df_bot_only_filtered.head())\n",
    "print(\"Columns renamed successfully.\")"
   ],
   "metadata": {
    "colab": {
     "base_uri": "https://localhost:8080/"
    },
    "id": "FJk0nPluOQJV",
    "outputId": "9f296e20-1808-4087-b63a-5a9d15fc77b6"
   },
   "execution_count": null,
   "outputs": [
    {
     "output_type": "stream",
     "name": "stdout",
     "text": [
      "   userid      Username                                              Tweet  \\\n",
      "0  132131         flong  Station activity person against natural majori...   \n",
      "1  696168        pmason  Just cover eight opportunity strong policy which.   \n",
      "2  704441        noah87                      Animal sign six data good or.   \n",
      "3  570928       james00  See wonder travel this suffer less yard office...   \n",
      "4  107312  lesterdaniel   Job phone price magazine worry stage check view.   \n",
      "\n",
      "   avg_retweetcount  Mention Count  followers  Verified  label       Location  \\\n",
      "0                85              1       2353     False      1      Adkinston   \n",
      "1                54              5       2242      True      1   Martinezberg   \n",
      "2                26              3       8438     False      1   Camachoville   \n",
      "3                41              4       3792      True      1  West Cheyenne   \n",
      "4                64              0       1442     False      1     Smithhaven   \n",
      "\n",
      "            Created At                           Hashtags  \n",
      "0  2020-05-11 15:29:50                                NaN  \n",
      "1  2021-08-14 22:27:05                 ever quickly new I  \n",
      "2  2020-04-13 21:24:21                    foreign mention  \n",
      "3  2023-05-07 22:24:47  anyone respond perhaps market run  \n",
      "4  2022-06-12 16:45:16               option husband admit  \n",
      "Columns renamed successfully.\n"
     ]
    }
   ]
  },
  {
   "cell_type": "code",
   "source": [
    "# Specify the columns to keep\n",
    "columns_to_keep = ['userid', 'avg_retweetcount', 'followers', 'label']\n",
    "\n",
    "# Drop columns that are not in the list of columns to keep\n",
    "df_bot_only_filtered = df_bot_only_filtered[columns_to_keep].copy()\n",
    "\n",
    "print(\"Columns dropped successfully.\")\n",
    "print(df_bot_only_filtered.head())\n"
   ],
   "metadata": {
    "colab": {
     "base_uri": "https://localhost:8080/"
    },
    "id": "vuxdCiE0O5bv",
    "outputId": "601fb27d-bf9d-45a8-a23d-1d0b15ae9652"
   },
   "execution_count": null,
   "outputs": [
    {
     "output_type": "stream",
     "name": "stdout",
     "text": [
      "Columns dropped successfully.\n",
      "   userid  avg_retweetcount  followers  label\n",
      "0  132131                85       2353      1\n",
      "1  696168                54       2242      1\n",
      "2  704441                26       8438      1\n",
      "3  570928                41       3792      1\n",
      "4  107312                64       1442      1\n"
     ]
    }
   ]
  },
  {
   "source": [
    "output_filename = '../data/bot_records_filtered.csv'\n",
    "df_bot_only_filtered.to_csv(output_filename, index=False)\n",
    "\n",
    "print(f\"Filtered bot records exported to {output_filename}\")"
   ],
   "cell_type": "code",
   "metadata": {
    "colab": {
     "base_uri": "https://localhost:8080/"
    },
    "id": "HAeVNCx1MDD6",
    "outputId": "69e418f9-acfd-4929-d9a7-066ec9abca94"
   },
   "execution_count": null,
   "outputs": [
    {
     "output_type": "stream",
     "name": "stdout",
     "text": [
      "Filtered bot records exported to bot_records_filtered.csv\n"
     ]
    }
   ]
  }
 ]
}
