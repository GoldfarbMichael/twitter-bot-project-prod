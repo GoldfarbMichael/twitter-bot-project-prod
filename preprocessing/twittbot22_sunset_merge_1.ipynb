{
 "nbformat": 4,
 "nbformat_minor": 0,
 "metadata": {
  "colab": {
   "provenance": []
  },
  "kernelspec": {
   "name": "python3",
   "display_name": "Python 3"
  },
  "language_info": {
   "name": "python"
  }
 },
 "cells": [
  {
   "cell_type": "markdown",
   "source": [
    "#Download Sunset dataset#"
   ],
   "metadata": {
    "id": "Y1sQsSjSfcCQ"
   }
  },
  {
   "cell_type": "code",
   "source": [
    "import kagglehub\n",
    "\n",
    "# Download latest version\n",
    "path = kagglehub.dataset_download(\"bwandowando/ukraine-russian-crisis-twitter-dataset-1-2-m-rows\")\n",
    "\n",
    "print(\"Path to dataset files:\", path)"
   ],
   "metadata": {
    "colab": {
     "base_uri": "https://localhost:8080/"
    },
    "id": "kGxcnohNcvsl",
    "outputId": "5dce58e0-2d8f-48ea-837c-231cdff4ae9d"
   },
   "execution_count": null,
   "outputs": [
    {
     "output_type": "stream",
     "name": "stdout",
     "text": [
      "Downloading from https://www.kaggle.com/api/v1/datasets/download/bwandowando/ukraine-russian-crisis-twitter-dataset-1-2-m-rows?dataset_version_number=510...\n"
     ]
    },
    {
     "output_type": "stream",
     "name": "stderr",
     "text": [
      "100%|██████████| 16.9G/16.9G [03:17<00:00, 91.8MB/s]"
     ]
    },
    {
     "output_type": "stream",
     "name": "stdout",
     "text": [
      "Extracting files...\n"
     ]
    },
    {
     "output_type": "stream",
     "name": "stderr",
     "text": [
      "\n"
     ]
    },
    {
     "output_type": "stream",
     "name": "stdout",
     "text": [
      "Path to dataset files: /root/.cache/kagglehub/datasets/bwandowando/ukraine-russian-crisis-twitter-dataset-1-2-m-rows/versions/510\n"
     ]
    }
   ]
  },
  {
   "cell_type": "markdown",
   "source": [
    "# Remove 'u' form twitbot22 #\n"
   ],
   "metadata": {
    "id": "Uu15MRJdhE3_"
   }
  },
  {
   "cell_type": "code",
   "source": [
    "import pandas as pd\n",
    "import os\n",
    "# Get the path from the output of your previous code\n",
    "dataset_path = \"/root/.cache/kagglehub/datasets/bwandowando/ukraine-russian-crisis-twitter-dataset-1-2-m-rows/versions/510\"\n",
    "\n",
    "# List the files in the directory\n",
    "files_in_dataset = os.listdir(dataset_path)\n",
    "print(\"Files in the dataset directory:\", files_in_dataset)\n",
    "\n",
    "\n",
    "labels_df = pd.read_csv('label.csv')\n",
    "dataset_path1 = \"/root/.cache/kagglehub/datasets/bwandowando/ukraine-russian-crisis-twitter-dataset-1-2-m-rows/versions/510/0907_UkraineCombinedTweetsDeduped.csv\"\n",
    "sunset_df1 = pd.read_csv(dataset_path1)\n",
    "\n",
    "\n",
    "# Remove the 'u' character from the 'id' column\n",
    "labels_df['id'] = labels_df['id'].str.replace('u', '')\n",
    "\n",
    "# Display the first few rows to check the changes\n",
    "labels_df.to_csv('labels.csv', index=False)\n",
    "\n",
    "print(labels_df.head())\n"
   ],
   "metadata": {
    "colab": {
     "base_uri": "https://localhost:8080/"
    },
    "id": "FTm3rzt4mauF",
    "outputId": "cd501d70-61d1-4d63-889d-4600225d3be2"
   },
   "execution_count": null,
   "outputs": [
    {
     "output_type": "stream",
     "name": "stdout",
     "text": [
      "Files in the dataset directory: ['0907_UkraineCombinedTweetsDeduped.csv', '1130_UkraineCombinedTweetsDeduped.csv', '0926_UkraineCombinedTweetsDeduped.csv', '20230318_UkraineCombinedTweetsDeduped.csv', '20230421_UkraineCombinedTweetsDeduped.csv', '20230325_UkraineCombinedTweetsDeduped.csv', '20230427_UkraineCombinedTweetsDeduped.csv', '20230331_UkraineCombinedTweetsDeduped.csv', '20230605_UkraineCombinedTweetsDeduped.csv', '1207_UkraineCombinedTweetsDeduped.csv', '20230610_UkraineCombinedTweetsDeduped.csv', '20230603_UkraineCombinedTweetsDeduped.csv', '1002_UkraineCombinedTweetsDeduped.csv', '1201_UkraineCombinedTweetsDeduped.csv', '20230119_UkraineCombinedTweetsDeduped.csv', '0826_UkraineCombinedTweetsDeduped.csv', '20230407_UkraineCombinedTweetsDeduped.csv', '20230302_UkraineCombinedTweetsDeduped.csv', '1110_UkraineCombinedTweetsDeduped.csv', '20230112_UkraineCombinedTweetsDeduped.csv', '20230105_UkraineCombinedTweetsDeduped.csv', '20230225_UkraineCombinedTweetsDeduped.csv', '20230428_UkraineCombinedTweetsDeduped.csv', '1008_UkraineCombinedTweetsDeduped.csv', '20230113_UkraineCombinedTweetsDeduped.csv', '20230607_UkraineCombinedTweetsDeduped.csv', '20230320_UkraineCombinedTweetsDeduped.csv', '1106_UkraineCombinedTweetsDeduped.csv', '20230315_UkraineCombinedTweetsDeduped.csv', '20230305_UkraineCombinedTweetsDeduped.csv', '20230613_UkraineCombinedTweetsDeduped.csv', '1026_UkraineCombinedTweetsDeduped.csv', '20230203_UkraineCombinedTweetsDeduped.csv', '20230404_UkraineCombinedTweetsDeduped.csv', '1023_UkraineCombinedTweetsDeduped.csv', '20230418_UkraineCombinedTweetsDeduped.csv', '20230501_to_20230502_UkraineCombinedTweetsDeduped.csv', '20230524_UkraineCombinedTweetsDeduped.csv', '20230411_UkraineCombinedTweetsDeduped.csv', '20230504_UkraineCombinedTweetsDeduped.csv', '1001_UkraineCombinedTweetsDeduped.csv', '20230213_UkraineCombinedTweetsDeduped.csv', '20230414_UkraineCombinedTweetsDeduped.csv', '1102_UkraineCombinedTweetsDeduped.csv', '0916_UkraineCombinedTweetsDeduped.csv', '1230_UkraineCombinedTweetsDeduped.csv', '20230314_UkraineCombinedTweetsDeduped.csv', '1011_UkraineCombinedTweetsDeduped.csv', '20230303_UkraineCombinedTweetsDeduped.csv', '1121_UkraineCombinedTweetsDeduped.csv', '1022_UkraineCombinedTweetsDeduped.csv', '20230224_UkraineCombinedTweetsDeduped.csv', '20230517_UkraineCombinedTweetsDeduped.csv', '20230202_UkraineCombinedTweetsDeduped.csv', '20230219_UkraineCombinedTweetsDeduped.csv', '20230417_UkraineCombinedTweetsDeduped.csv', '20230523_UkraineCombinedTweetsDeduped.csv', '20230201_UkraineCombinedTweetsDeduped.csv', '20230122_UkraineCombinedTweetsDeduped.csv', '20230306_UkraineCombinedTweetsDeduped.csv', '20230101_UkraineCombinedTweetsDeduped.csv', '1114_UkraineCombinedTweetsDeduped.csv', '0925_UkraineCombinedTweetsDeduped.csv', '0913_UkraineCombinedTweetsDeduped.csv', '0912_UkraineCombinedTweetsDeduped.csv', '20230118_UkraineCombinedTweetsDeduped.csv', '1227_UkraineCombinedTweetsDeduped.csv', '1229_UkraineCombinedTweetsDeduped.csv', '20230117_UkraineCombinedTweetsDeduped.csv', '20230216_UkraineCombinedTweetsDeduped.csv', '20230528_UkraineCombinedTweetsDeduped.csv', '20230128_UkraineCombinedTweetsDeduped.csv', '1112_UkraineCombinedTweetsDeduped.csv', '20230612_UkraineCombinedTweetsDeduped.csv', '1109_UkraineCombinedTweetsDeduped.csv', '1104_UkraineCombinedTweetsDeduped.csv', '20230405_UkraineCombinedTweetsDeduped.csv', '1107_UkraineCombinedTweetsDeduped.csv', '1007_UkraineCombinedTweetsDeduped.csv', '1031_UkraineCombinedTweetsDeduped.csv', '0930_UkraineCombinedTweetsDeduped.csv', '20230209_UkraineCombinedTweetsDeduped.csv', '1129_UkraineCombinedTweetsDeduped.csv', '20230316_UkraineCombinedTweetsDeduped.csv', '0824_UkraineCombinedTweetsDeduped.csv', '1228_UkraineCombinedTweetsDeduped.csv', '20230310_UkraineCombinedTweetsDeduped.csv', '20230601_UkraineCombinedTweetsDeduped.csv', '1030_UkraineCombinedTweetsDeduped.csv', '20230604_UkraineCombinedTweetsDeduped.csv', '20230111_UkraineCombinedTweetsDeduped.csv', '0920_UkraineCombinedTweetsDeduped.csv', '1020_UkraineCombinedTweetsDeduped.csv', '0828_UkraineCombinedTweetsDeduped.csv', '1224_UkraineCombinedTweetsDeduped.csv', '20230423_UkraineCombinedTweetsDeduped.csv', '20230226_UkraineCombinedTweetsDeduped.csv', '20230207_UkraineCombinedTweetsDeduped.csv', '1116_UkraineCombinedTweetsDeduped.csv', '20230317_UkraineCombinedTweetsDeduped.csv', '1123_UkraineCombinedTweetsDeduped.csv', '0821_UkraineCombinedTweetsDeduped.csv', '20230606_UkraineCombinedTweetsDeduped.csv', '20230120_UkraineCombinedTweetsDeduped.csv', '1113_UkraineCombinedTweetsDeduped.csv', '1222_UkraineCombinedTweetsDeduped.csv', '1208_UkraineCombinedTweetsDeduped.csv', '20230425_UkraineCombinedTweetsDeduped.csv', '1017_UkraineCombinedTweetsDeduped.csv', '20230611_UkraineCombinedTweetsDeduped.csv', '20230420_UkraineCombinedTweetsDeduped.csv', '1103_UkraineCombinedTweetsDeduped.csv', '20230130_UkraineCombinedTweetsDeduped.csv', '1220_UkraineCombinedTweetsDeduped.csv', '20230422_UkraineCombinedTweetsDeduped.csv', '1218_UkraineCombinedTweetsDeduped.csv', '0910_UkraineCombinedTweetsDeduped.csv', '0901_UkraineCombinedTweetsDeduped.csv', '20230602_UkraineCombinedTweetsDeduped.csv', '20230416_UkraineCombinedTweetsDeduped.csv', '20230503_UkraineCombinedTweetsDeduped.csv', '20230116_UkraineCombinedTweetsDeduped.csv', '1009_UkraineCombinedTweetsDeduped.csv', '20230510_UkraineCombinedTweetsDeduped.csv', '1206_UkraineCombinedTweetsDeduped.csv', '20230301_UkraineCombinedTweetsDeduped.csv', '20230109_UkraineCombinedTweetsDeduped.csv', '1003_UkraineCombinedTweetsDeduped.csv', '20230518_to_20230520_UkraineCombinedTweetsDeduped.csv', '20230208_UkraineCombinedTweetsDeduped.csv', '0906_UkraineCombinedTweetsDeduped.csv', '20230515_to_20230516_UkraineCombinedTweetsDeduped.csv', '1126_UkraineCombinedTweetsDeduped.csv', '0924_UkraineCombinedTweetsDeduped.csv', '20230424_UkraineCombinedTweetsDeduped.csv', '20230530_UkraineCombinedTweetsDeduped.csv', '20230408_UkraineCombinedTweetsDeduped.csv', '20230322_UkraineCombinedTweetsDeduped.csv', '20230525_UkraineCombinedTweetsDeduped.csv', '20230412_UkraineCombinedTweetsDeduped.csv', '20230521_UkraineCombinedTweetsDeduped.csv', '20230304_UkraineCombinedTweetsDeduped.csv', '1111_UkraineCombinedTweetsDeduped.csv', '20230403_UkraineCombinedTweetsDeduped.csv', '20230204_UkraineCombinedTweetsDeduped.csv', '1024_UkraineCombinedTweetsDeduped.csv', '1205_UkraineCombinedTweetsDeduped.csv', '20230104_UkraineCombinedTweetsDeduped.csv', '20230127_UkraineCombinedTweetsDeduped.csv', '1209_UkraineCombinedTweetsDeduped.csv', '20230513_UkraineCombinedTweetsDeduped.csv', '20230131_UkraineCombinedTweetsDeduped.csv', '20230319_UkraineCombinedTweetsDeduped.csv', '0915_UkraineCombinedTweetsDeduped.csv', '0908_UkraineCombinedTweetsDeduped.csv', '20230527_UkraineCombinedTweetsDeduped.csv', '20230205_UkraineCombinedTweetsDeduped.csv', '1101_UkraineCombinedTweetsDeduped.csv', '20230108_UkraineCombinedTweetsDeduped.csv', '20230124_UkraineCombinedTweetsDeduped.csv', '20230402_UkraineCombinedTweetsDeduped.csv', '1204_UkraineCombinedTweetsDeduped.csv', '1018_UkraineCombinedTweetsDeduped.csv', '20230326_UkraineCombinedTweetsDeduped.csv', '1215_UkraineCombinedTweetsDeduped.csv', '0928_UkraineCombinedTweetsDeduped.csv', '1231_UkraineCombinedTweetsDeduped.csv', '20230214_UkraineCombinedTweetsDeduped.csv', '20230526_UkraineCombinedTweetsDeduped.csv', '20230509_UkraineCombinedTweetsDeduped.csv', '0923_UkraineCombinedTweetsDeduped.csv', '1105_UkraineCombinedTweetsDeduped.csv', '0904_UkraineCombinedTweetsDeduped.csv', '0911_UkraineCombinedTweetsDeduped.csv', '0830_UkraineCombinedTweetsDeduped.csv', '0827_UkraineCombinedTweetsDeduped.csv', '1108_UkraineCombinedTweetsDeduped.csv', '20230114_UkraineCombinedTweetsDeduped.csv', '20230221_UkraineCombinedTweetsDeduped.csv', '1211_UkraineCombinedTweetsDeduped.csv', '20230218_UkraineCombinedTweetsDeduped.csv', '1016_UkraineCombinedTweetsDeduped.csv', '20230324_UkraineCombinedTweetsDeduped.csv', '1119_UkraineCombinedTweetsDeduped.csv', '20230522_UkraineCombinedTweetsDeduped.csv', '0921_UkraineCombinedTweetsDeduped.csv', '0919_UkraineCombinedTweetsDeduped.csv', '20230410_UkraineCombinedTweetsDeduped.csv', '0929_UkraineCombinedTweetsDeduped.csv', '0822_UkraineCombinedTweetsDeduped.csv', '20230115_UkraineCombinedTweetsDeduped.csv', '0927_UkraineCombinedTweetsDeduped.csv', '20230531_UkraineCombinedTweetsDeduped.csv', '20230429_to_20230430_UkraineCombinedTweetsDeduped.csv', '0902_UkraineCombinedTweetsDeduped.csv', '1122_UkraineCombinedTweetsDeduped.csv', '20230409_UkraineCombinedTweetsDeduped.csv', '1210_UkraineCombinedTweetsDeduped.csv', '0825_UkraineCombinedTweetsDeduped.csv', '0829_UkraineCombinedTweetsDeduped.csv', '1120_UkraineCombinedTweetsDeduped.csv', '20230415_UkraineCombinedTweetsDeduped.csv', '1219_UkraineCombinedTweetsDeduped.csv', '20230327_UkraineCombinedTweetsDeduped.csv', '20230121_UkraineCombinedTweetsDeduped.csv', '1025_UkraineCombinedTweetsDeduped.csv', '20230308_UkraineCombinedTweetsDeduped.csv', '20230129_UkraineCombinedTweetsDeduped.csv', '0918_UkraineCombinedTweetsDeduped.csv', '20230323_UkraineCombinedTweetsDeduped.csv', '20230330_UkraineCombinedTweetsDeduped.csv', '20230125_UkraineCombinedTweetsDeduped.csv', '20230220_UkraineCombinedTweetsDeduped.csv', '1223_UkraineCombinedTweetsDeduped.csv', 'UkraineWar', '20230211_UkraineCombinedTweetsDeduped.csv', '0922_UkraineCombinedTweetsDeduped.csv', '1225_UkraineCombinedTweetsDeduped.csv', '1029_UkraineCombinedTweetsDeduped.csv', '1014_UkraineCombinedTweetsDeduped.csv', '1027_UkraineCombinedTweetsDeduped.csv', '1124_UkraineCombinedTweetsDeduped.csv', '1115_UkraineCombinedTweetsDeduped.csv', '20230401_UkraineCombinedTweetsDeduped.csv', '20230307_UkraineCombinedTweetsDeduped.csv', '20230406_UkraineCombinedTweetsDeduped.csv', '1221_UkraineCombinedTweetsDeduped.csv', '20230413_UkraineCombinedTweetsDeduped.csv', '0914_UkraineCombinedTweetsDeduped.csv', '1010_UkraineCombinedTweetsDeduped.csv', '0831_UkraineCombinedTweetsDeduped.csv', '0903_UkraineCombinedTweetsDeduped.csv', '1128_UkraineCombinedTweetsDeduped.csv', '20230321_UkraineCombinedTweetsDeduped.csv', '1118_UkraineCombinedTweetsDeduped.csv', '0909_UkraineCombinedTweetsDeduped.csv', '20230212_UkraineCombinedTweetsDeduped.csv', '0820_UkraineCombinedTweetsDeduped.csv', '20230210_UkraineCombinedTweetsDeduped.csv', '0819_UkraineCombinedTweetsDeduped.csv', '20230126_UkraineCombinedTweetsDeduped.csv', '0905_UkraineCombinedTweetsDeduped.csv', '0823_UkraineCombinedTweetsDeduped.csv', '1216_UkraineCombinedTweetsDeduped.csv', '20230328_UkraineCombinedTweetsDeduped.csv', '20230419_UkraineCombinedTweetsDeduped.csv', '1212_UkraineCombinedTweetsDeduped.csv', '20230426_UkraineCombinedTweetsDeduped.csv', '1226_UkraineCombinedTweetsDeduped.csv', '20230110_UkraineCombinedTweetsDeduped.csv', '20230123_UkraineCombinedTweetsDeduped.csv', '1019_UkraineCombinedTweetsDeduped.csv', '20230511_to_20230512_UkraineCombinedTweetsDeduped.csv', '20230608_UkraineCombinedTweetsDeduped.csv', '1005_UkraineCombinedTweetsDeduped.csv', '1202_UkraineCombinedTweetsDeduped.csv', '1203_UkraineCombinedTweetsDeduped.csv', '1117_UkraineCombinedTweetsDeduped.csv', '20230106_UkraineCombinedTweetsDeduped.csv', '1214_UkraineCombinedTweetsDeduped.csv', '20230313_UkraineCombinedTweetsDeduped.csv', '20230228_UkraineCombinedTweetsDeduped.csv', '1213_UkraineCombinedTweetsDeduped.csv', '20230309_UkraineCombinedTweetsDeduped.csv', '20230529_UkraineCombinedTweetsDeduped.csv', '20230217_UkraineCombinedTweetsDeduped.csv', '20230103_UkraineCombinedTweetsDeduped.csv', '20230609_UkraineCombinedTweetsDeduped.csv', '20230102_UkraineCombinedTweetsDeduped.csv', '20230227_UkraineCombinedTweetsDeduped.csv', '1217_UkraineCombinedTweetsDeduped.csv', '20230514_UkraineCombinedTweetsDeduped.csv', '1028_UkraineCombinedTweetsDeduped.csv', '1006_UkraineCombinedTweetsDeduped.csv', '1012_UkraineCombinedTweetsDeduped.csv', '20230329_UkraineCombinedTweetsDeduped.csv', '20230222_UkraineCombinedTweetsDeduped.csv', '20230311_UkraineCombinedTweetsDeduped.csv', '1125_UkraineCombinedTweetsDeduped.csv', '20230505_to_20230508_UkraineCombinedTweetsDeduped.csv', '20230206_UkraineCombinedTweetsDeduped.csv', '1015_UkraineCombinedTweetsDeduped.csv', '20230107_UkraineCombinedTweetsDeduped.csv', '20230215_UkraineCombinedTweetsDeduped.csv', '20230223_UkraineCombinedTweetsDeduped.csv', '1013_UkraineCombinedTweetsDeduped.csv', '1004_UkraineCombinedTweetsDeduped.csv', '0917_UkraineCombinedTweetsDeduped.csv', '1127_UkraineCombinedTweetsDeduped.csv', '20230312_UkraineCombinedTweetsDeduped.csv', '1021_UkraineCombinedTweetsDeduped.csv', '20230614_UkraineCombinedTweetsDeduped.csv']\n",
      "                    id  label\n",
      "0  1217628182611927040  human\n",
      "1           2664730894  human\n",
      "2  1266703520205549568  human\n",
      "3  1089159225148882949  human\n",
      "4             36741729    bot\n"
     ]
    }
   ]
  },
  {
   "cell_type": "markdown",
   "source": [
    "# Join twitbot22 and Sunset #\n",
    "## note: **Overrides Sunset**##"
   ],
   "metadata": {
    "id": "s1iF1KDkhY-I"
   }
  },
  {
   "cell_type": "code",
   "source": [
    "# Get the IDs from the labels_df\n",
    "label_ids = set(labels_df['id'])\n",
    "\n",
    "# Initialize an empty list to store merged dataframes\n",
    "merged_dfs = []\n",
    "\n",
    "# Iterate through the files in the dataset directory\n",
    "for file_name in files_in_dataset:\n",
    "    if file_name.endswith('.csv'):\n",
    "        file_path = os.path.join(dataset_path, file_name)\n",
    "\n",
    "        try:\n",
    "            # Read the sunset file\n",
    "            sunset_df = pd.read_csv(file_path)\n",
    "\n",
    "            # Check for intersection and merge if there's a match\n",
    "            # Ensure 'userid' column is treated as string for consistent comparison\n",
    "            sunset_df['userid'] = sunset_df['userid'].astype(str)\n",
    "\n",
    "            # Perform the merge\n",
    "            merged_df = pd.merge(sunset_df, labels_df, left_on='userid', right_on='id', how='left')\n",
    "            output_file_path = file_path\n",
    "\n",
    "            # Save the merged dataframe back to a CSV file\n",
    "            merged_df.to_csv(output_file_path, index=False)\n",
    "\n",
    "            print(f\"Processed, merged, and saved {file_name}\")\n",
    "\n",
    "        except Exception as e:\n",
    "            print(f\"Error processing {file_name}: {e}\")"
   ],
   "metadata": {
    "colab": {
     "base_uri": "https://localhost:8080/"
    },
    "id": "KR_faPzC8dA3",
    "outputId": "ad927dff-9ed6-4590-fd0d-19286db436bc"
   },
   "execution_count": null,
   "outputs": [
    {
     "output_type": "stream",
     "name": "stdout",
     "text": [
      "Error processing 0504_UkraineCombinedTweetsDeduped.csv: Error tokenizing data. C error: Calling read(nbytes) on source failed. Try engine='python'.\n",
      "Error processing 0605_UkraineCombinedTweetsDeduped.csv: Error tokenizing data. C error: Calling read(nbytes) on source failed. Try engine='python'.\n",
      "Error processing 0508_UkraineCombinedTweetsDeduped.csv: You are trying to merge on object and int64 columns for key 'userid'. If you wish to proceed you should use pd.concat\n",
      "Error processing 0602_UkraineCombinedTweetsDeduped.csv: Error tokenizing data. C error: Calling read(nbytes) on source failed. Try engine='python'.\n",
      "Error processing UkraineCombinedTweetsDeduped_MAR10.csv: Error tokenizing data. C error: Calling read(nbytes) on source failed. Try engine='python'.\n"
     ]
    }
   ]
  },
  {
   "cell_type": "markdown",
   "source": [
    "# Change **JOINED dataset** Directory in order to compress it and download it #"
   ],
   "metadata": {
    "id": "1tuBH3ZYhuL9"
   }
  },
  {
   "cell_type": "code",
   "source": [
    "import shutil\n",
    "import os\n",
    "\n",
    "# Define the source and destination paths\n",
    "source_directory = \"/root/.cache/kagglehub/datasets/bwandowando/ukraine-russian-crisis-twitter-dataset-1-2-m-rows/versions/510\"\n",
    "destination_directory = \"/content/ukraine_twitter_dataset\"\n",
    "\n",
    "# Ensure the destination directory exists (optional, but good practice)\n",
    "os.makedirs(destination_directory, exist_ok=True)\n",
    "\n",
    "try:\n",
    "    # Move the directory\n",
    "    shutil.move(source_directory, destination_directory)\n",
    "    print(f\"Directory moved successfully from {source_directory} to {destination_directory}\")\n",
    "except Exception as e:\n",
    "    print(f\"Error moving directory: {e}\")"
   ],
   "metadata": {
    "colab": {
     "base_uri": "https://localhost:8080/"
    },
    "id": "GNxrJ8IADxd2",
    "outputId": "95652e2e-e7d5-433f-a9ea-a62b7097ca37"
   },
   "execution_count": null,
   "outputs": [
    {
     "output_type": "stream",
     "name": "stdout",
     "text": [
      "Directory moved successfully from /root/.cache/kagglehub/datasets/bwandowando/ukraine-russian-crisis-twitter-dataset-1-2-m-rows/versions/510 to /content/ukraine_twitter_dataset\n"
     ]
    }
   ]
  },
  {
   "cell_type": "markdown",
   "source": [
    "# Put all the Overrideen files into a \"files\" directory. because of the \"hidden\" folder that didn't get processed #"
   ],
   "metadata": {
    "id": "PxZyI9Nxix12"
   }
  },
  {
   "cell_type": "code",
   "source": [
    "# Define the path to the directory containing the CSV files\n",
    "main_directory = \"/content/ukraine_twitter_dataset/510\"\n",
    "# Define the path for the new folder inside the main directory\n",
    "new_folder_path = os.path.join(main_directory, \"files\")\n",
    "\n",
    "# Create the new folder if it doesn't exist\n",
    "os.makedirs(new_folder_path, exist_ok=True)\n",
    "\n",
    "# Get the list of files in the main directory\n",
    "files_in_directory = os.listdir(main_directory)\n",
    "\n",
    "# Iterate through the files and move CSV files to the new folder\n",
    "for file_name in files_in_directory:\n",
    "    source_file_path = os.path.join(main_directory, file_name)\n",
    "\n",
    "    # Check if it's a file and if it's a CSV file\n",
    "    if os.path.isfile(source_file_path) and file_name.lower().endswith('.csv'):\n",
    "        destination_file_path = os.path.join(new_folder_path, file_name)\n",
    "\n",
    "        try:\n",
    "            shutil.move(source_file_path, destination_file_path)\n",
    "            print(f\"Moved {file_name} to {new_folder_path}\")\n",
    "        except Exception as e:\n",
    "            print(f\"Error moving {file_name}: {e}\")"
   ],
   "metadata": {
    "colab": {
     "base_uri": "https://localhost:8080/"
    },
    "id": "vPmE_VrtJ5xt",
    "outputId": "221bc29c-48bb-4950-dd4e-cd0bebcc6e3d"
   },
   "execution_count": null,
   "outputs": [
    {
     "output_type": "stream",
     "name": "stdout",
     "text": [
      "Moved 0907_UkraineCombinedTweetsDeduped.csv to /content/ukraine_twitter_dataset/510/files\n",
      "Moved 1130_UkraineCombinedTweetsDeduped.csv to /content/ukraine_twitter_dataset/510/files\n",
      "Moved 0926_UkraineCombinedTweetsDeduped.csv to /content/ukraine_twitter_dataset/510/files\n",
      "Moved 20230318_UkraineCombinedTweetsDeduped.csv to /content/ukraine_twitter_dataset/510/files\n",
      "Moved 20230421_UkraineCombinedTweetsDeduped.csv to /content/ukraine_twitter_dataset/510/files\n",
      "Moved 20230325_UkraineCombinedTweetsDeduped.csv to /content/ukraine_twitter_dataset/510/files\n",
      "Moved 20230427_UkraineCombinedTweetsDeduped.csv to /content/ukraine_twitter_dataset/510/files\n",
      "Moved 20230331_UkraineCombinedTweetsDeduped.csv to /content/ukraine_twitter_dataset/510/files\n",
      "Moved 20230605_UkraineCombinedTweetsDeduped.csv to /content/ukraine_twitter_dataset/510/files\n",
      "Moved 1207_UkraineCombinedTweetsDeduped.csv to /content/ukraine_twitter_dataset/510/files\n",
      "Moved 20230610_UkraineCombinedTweetsDeduped.csv to /content/ukraine_twitter_dataset/510/files\n",
      "Moved 20230603_UkraineCombinedTweetsDeduped.csv to /content/ukraine_twitter_dataset/510/files\n",
      "Moved 1002_UkraineCombinedTweetsDeduped.csv to /content/ukraine_twitter_dataset/510/files\n",
      "Moved 1201_UkraineCombinedTweetsDeduped.csv to /content/ukraine_twitter_dataset/510/files\n",
      "Moved 20230119_UkraineCombinedTweetsDeduped.csv to /content/ukraine_twitter_dataset/510/files\n",
      "Moved 0826_UkraineCombinedTweetsDeduped.csv to /content/ukraine_twitter_dataset/510/files\n",
      "Moved 20230407_UkraineCombinedTweetsDeduped.csv to /content/ukraine_twitter_dataset/510/files\n",
      "Moved 20230302_UkraineCombinedTweetsDeduped.csv to /content/ukraine_twitter_dataset/510/files\n",
      "Moved 1110_UkraineCombinedTweetsDeduped.csv to /content/ukraine_twitter_dataset/510/files\n",
      "Moved 20230112_UkraineCombinedTweetsDeduped.csv to /content/ukraine_twitter_dataset/510/files\n",
      "Moved 20230105_UkraineCombinedTweetsDeduped.csv to /content/ukraine_twitter_dataset/510/files\n",
      "Moved 20230225_UkraineCombinedTweetsDeduped.csv to /content/ukraine_twitter_dataset/510/files\n",
      "Moved 20230428_UkraineCombinedTweetsDeduped.csv to /content/ukraine_twitter_dataset/510/files\n",
      "Moved 1008_UkraineCombinedTweetsDeduped.csv to /content/ukraine_twitter_dataset/510/files\n",
      "Moved 20230113_UkraineCombinedTweetsDeduped.csv to /content/ukraine_twitter_dataset/510/files\n",
      "Moved 20230607_UkraineCombinedTweetsDeduped.csv to /content/ukraine_twitter_dataset/510/files\n",
      "Moved 20230320_UkraineCombinedTweetsDeduped.csv to /content/ukraine_twitter_dataset/510/files\n",
      "Moved 1106_UkraineCombinedTweetsDeduped.csv to /content/ukraine_twitter_dataset/510/files\n",
      "Moved 20230315_UkraineCombinedTweetsDeduped.csv to /content/ukraine_twitter_dataset/510/files\n",
      "Moved 20230305_UkraineCombinedTweetsDeduped.csv to /content/ukraine_twitter_dataset/510/files\n",
      "Moved 20230613_UkraineCombinedTweetsDeduped.csv to /content/ukraine_twitter_dataset/510/files\n",
      "Moved 1026_UkraineCombinedTweetsDeduped.csv to /content/ukraine_twitter_dataset/510/files\n",
      "Moved 20230203_UkraineCombinedTweetsDeduped.csv to /content/ukraine_twitter_dataset/510/files\n",
      "Moved 20230404_UkraineCombinedTweetsDeduped.csv to /content/ukraine_twitter_dataset/510/files\n",
      "Moved 1023_UkraineCombinedTweetsDeduped.csv to /content/ukraine_twitter_dataset/510/files\n",
      "Moved 20230418_UkraineCombinedTweetsDeduped.csv to /content/ukraine_twitter_dataset/510/files\n",
      "Moved 20230501_to_20230502_UkraineCombinedTweetsDeduped.csv to /content/ukraine_twitter_dataset/510/files\n",
      "Moved 20230524_UkraineCombinedTweetsDeduped.csv to /content/ukraine_twitter_dataset/510/files\n",
      "Moved 20230411_UkraineCombinedTweetsDeduped.csv to /content/ukraine_twitter_dataset/510/files\n",
      "Moved 20230504_UkraineCombinedTweetsDeduped.csv to /content/ukraine_twitter_dataset/510/files\n",
      "Moved 1001_UkraineCombinedTweetsDeduped.csv to /content/ukraine_twitter_dataset/510/files\n",
      "Moved 20230213_UkraineCombinedTweetsDeduped.csv to /content/ukraine_twitter_dataset/510/files\n",
      "Moved 20230414_UkraineCombinedTweetsDeduped.csv to /content/ukraine_twitter_dataset/510/files\n",
      "Moved 1102_UkraineCombinedTweetsDeduped.csv to /content/ukraine_twitter_dataset/510/files\n",
      "Moved 0916_UkraineCombinedTweetsDeduped.csv to /content/ukraine_twitter_dataset/510/files\n",
      "Moved 1230_UkraineCombinedTweetsDeduped.csv to /content/ukraine_twitter_dataset/510/files\n",
      "Moved 20230314_UkraineCombinedTweetsDeduped.csv to /content/ukraine_twitter_dataset/510/files\n",
      "Moved 1011_UkraineCombinedTweetsDeduped.csv to /content/ukraine_twitter_dataset/510/files\n",
      "Moved 20230303_UkraineCombinedTweetsDeduped.csv to /content/ukraine_twitter_dataset/510/files\n",
      "Moved 1121_UkraineCombinedTweetsDeduped.csv to /content/ukraine_twitter_dataset/510/files\n",
      "Moved 1022_UkraineCombinedTweetsDeduped.csv to /content/ukraine_twitter_dataset/510/files\n",
      "Moved 20230224_UkraineCombinedTweetsDeduped.csv to /content/ukraine_twitter_dataset/510/files\n",
      "Moved 20230517_UkraineCombinedTweetsDeduped.csv to /content/ukraine_twitter_dataset/510/files\n",
      "Moved 20230202_UkraineCombinedTweetsDeduped.csv to /content/ukraine_twitter_dataset/510/files\n",
      "Moved 20230219_UkraineCombinedTweetsDeduped.csv to /content/ukraine_twitter_dataset/510/files\n",
      "Moved 20230417_UkraineCombinedTweetsDeduped.csv to /content/ukraine_twitter_dataset/510/files\n",
      "Moved 20230523_UkraineCombinedTweetsDeduped.csv to /content/ukraine_twitter_dataset/510/files\n",
      "Moved 20230201_UkraineCombinedTweetsDeduped.csv to /content/ukraine_twitter_dataset/510/files\n",
      "Moved 20230122_UkraineCombinedTweetsDeduped.csv to /content/ukraine_twitter_dataset/510/files\n",
      "Moved 20230306_UkraineCombinedTweetsDeduped.csv to /content/ukraine_twitter_dataset/510/files\n",
      "Moved 20230101_UkraineCombinedTweetsDeduped.csv to /content/ukraine_twitter_dataset/510/files\n",
      "Moved 1114_UkraineCombinedTweetsDeduped.csv to /content/ukraine_twitter_dataset/510/files\n",
      "Moved 0925_UkraineCombinedTweetsDeduped.csv to /content/ukraine_twitter_dataset/510/files\n",
      "Moved 0913_UkraineCombinedTweetsDeduped.csv to /content/ukraine_twitter_dataset/510/files\n",
      "Moved 0912_UkraineCombinedTweetsDeduped.csv to /content/ukraine_twitter_dataset/510/files\n",
      "Moved 20230118_UkraineCombinedTweetsDeduped.csv to /content/ukraine_twitter_dataset/510/files\n",
      "Moved 1227_UkraineCombinedTweetsDeduped.csv to /content/ukraine_twitter_dataset/510/files\n",
      "Moved 1229_UkraineCombinedTweetsDeduped.csv to /content/ukraine_twitter_dataset/510/files\n",
      "Moved 20230117_UkraineCombinedTweetsDeduped.csv to /content/ukraine_twitter_dataset/510/files\n",
      "Moved 20230216_UkraineCombinedTweetsDeduped.csv to /content/ukraine_twitter_dataset/510/files\n",
      "Moved 20230528_UkraineCombinedTweetsDeduped.csv to /content/ukraine_twitter_dataset/510/files\n",
      "Moved 20230128_UkraineCombinedTweetsDeduped.csv to /content/ukraine_twitter_dataset/510/files\n",
      "Moved 1112_UkraineCombinedTweetsDeduped.csv to /content/ukraine_twitter_dataset/510/files\n",
      "Moved 20230612_UkraineCombinedTweetsDeduped.csv to /content/ukraine_twitter_dataset/510/files\n",
      "Moved 1109_UkraineCombinedTweetsDeduped.csv to /content/ukraine_twitter_dataset/510/files\n",
      "Moved 1104_UkraineCombinedTweetsDeduped.csv to /content/ukraine_twitter_dataset/510/files\n",
      "Moved 20230405_UkraineCombinedTweetsDeduped.csv to /content/ukraine_twitter_dataset/510/files\n",
      "Moved 1107_UkraineCombinedTweetsDeduped.csv to /content/ukraine_twitter_dataset/510/files\n",
      "Moved 1007_UkraineCombinedTweetsDeduped.csv to /content/ukraine_twitter_dataset/510/files\n",
      "Moved 1031_UkraineCombinedTweetsDeduped.csv to /content/ukraine_twitter_dataset/510/files\n",
      "Moved 0930_UkraineCombinedTweetsDeduped.csv to /content/ukraine_twitter_dataset/510/files\n",
      "Moved 20230209_UkraineCombinedTweetsDeduped.csv to /content/ukraine_twitter_dataset/510/files\n",
      "Moved 1129_UkraineCombinedTweetsDeduped.csv to /content/ukraine_twitter_dataset/510/files\n",
      "Moved 20230316_UkraineCombinedTweetsDeduped.csv to /content/ukraine_twitter_dataset/510/files\n",
      "Moved 0824_UkraineCombinedTweetsDeduped.csv to /content/ukraine_twitter_dataset/510/files\n",
      "Moved 1228_UkraineCombinedTweetsDeduped.csv to /content/ukraine_twitter_dataset/510/files\n",
      "Moved 20230310_UkraineCombinedTweetsDeduped.csv to /content/ukraine_twitter_dataset/510/files\n",
      "Moved 20230601_UkraineCombinedTweetsDeduped.csv to /content/ukraine_twitter_dataset/510/files\n",
      "Moved 1030_UkraineCombinedTweetsDeduped.csv to /content/ukraine_twitter_dataset/510/files\n",
      "Moved 20230604_UkraineCombinedTweetsDeduped.csv to /content/ukraine_twitter_dataset/510/files\n",
      "Moved 20230111_UkraineCombinedTweetsDeduped.csv to /content/ukraine_twitter_dataset/510/files\n",
      "Moved 0920_UkraineCombinedTweetsDeduped.csv to /content/ukraine_twitter_dataset/510/files\n",
      "Moved 1020_UkraineCombinedTweetsDeduped.csv to /content/ukraine_twitter_dataset/510/files\n",
      "Moved 0828_UkraineCombinedTweetsDeduped.csv to /content/ukraine_twitter_dataset/510/files\n",
      "Moved 1224_UkraineCombinedTweetsDeduped.csv to /content/ukraine_twitter_dataset/510/files\n",
      "Moved 20230423_UkraineCombinedTweetsDeduped.csv to /content/ukraine_twitter_dataset/510/files\n",
      "Moved 20230226_UkraineCombinedTweetsDeduped.csv to /content/ukraine_twitter_dataset/510/files\n",
      "Moved 20230207_UkraineCombinedTweetsDeduped.csv to /content/ukraine_twitter_dataset/510/files\n",
      "Moved 1116_UkraineCombinedTweetsDeduped.csv to /content/ukraine_twitter_dataset/510/files\n",
      "Moved 20230317_UkraineCombinedTweetsDeduped.csv to /content/ukraine_twitter_dataset/510/files\n",
      "Moved 1123_UkraineCombinedTweetsDeduped.csv to /content/ukraine_twitter_dataset/510/files\n",
      "Moved 0821_UkraineCombinedTweetsDeduped.csv to /content/ukraine_twitter_dataset/510/files\n",
      "Moved 20230606_UkraineCombinedTweetsDeduped.csv to /content/ukraine_twitter_dataset/510/files\n",
      "Moved 20230120_UkraineCombinedTweetsDeduped.csv to /content/ukraine_twitter_dataset/510/files\n",
      "Moved 1113_UkraineCombinedTweetsDeduped.csv to /content/ukraine_twitter_dataset/510/files\n",
      "Moved 1222_UkraineCombinedTweetsDeduped.csv to /content/ukraine_twitter_dataset/510/files\n",
      "Moved 1208_UkraineCombinedTweetsDeduped.csv to /content/ukraine_twitter_dataset/510/files\n",
      "Moved 20230425_UkraineCombinedTweetsDeduped.csv to /content/ukraine_twitter_dataset/510/files\n",
      "Moved 1017_UkraineCombinedTweetsDeduped.csv to /content/ukraine_twitter_dataset/510/files\n",
      "Moved 20230611_UkraineCombinedTweetsDeduped.csv to /content/ukraine_twitter_dataset/510/files\n",
      "Moved 20230420_UkraineCombinedTweetsDeduped.csv to /content/ukraine_twitter_dataset/510/files\n",
      "Moved 1103_UkraineCombinedTweetsDeduped.csv to /content/ukraine_twitter_dataset/510/files\n",
      "Moved 20230130_UkraineCombinedTweetsDeduped.csv to /content/ukraine_twitter_dataset/510/files\n",
      "Moved 1220_UkraineCombinedTweetsDeduped.csv to /content/ukraine_twitter_dataset/510/files\n",
      "Moved 20230422_UkraineCombinedTweetsDeduped.csv to /content/ukraine_twitter_dataset/510/files\n",
      "Moved 1218_UkraineCombinedTweetsDeduped.csv to /content/ukraine_twitter_dataset/510/files\n",
      "Moved 0910_UkraineCombinedTweetsDeduped.csv to /content/ukraine_twitter_dataset/510/files\n",
      "Moved 0901_UkraineCombinedTweetsDeduped.csv to /content/ukraine_twitter_dataset/510/files\n",
      "Moved 20230602_UkraineCombinedTweetsDeduped.csv to /content/ukraine_twitter_dataset/510/files\n",
      "Moved 20230416_UkraineCombinedTweetsDeduped.csv to /content/ukraine_twitter_dataset/510/files\n",
      "Moved 20230503_UkraineCombinedTweetsDeduped.csv to /content/ukraine_twitter_dataset/510/files\n",
      "Moved 20230116_UkraineCombinedTweetsDeduped.csv to /content/ukraine_twitter_dataset/510/files\n",
      "Moved 1009_UkraineCombinedTweetsDeduped.csv to /content/ukraine_twitter_dataset/510/files\n",
      "Moved 20230510_UkraineCombinedTweetsDeduped.csv to /content/ukraine_twitter_dataset/510/files\n",
      "Moved 1206_UkraineCombinedTweetsDeduped.csv to /content/ukraine_twitter_dataset/510/files\n",
      "Moved 20230301_UkraineCombinedTweetsDeduped.csv to /content/ukraine_twitter_dataset/510/files\n",
      "Moved 20230109_UkraineCombinedTweetsDeduped.csv to /content/ukraine_twitter_dataset/510/files\n",
      "Moved 1003_UkraineCombinedTweetsDeduped.csv to /content/ukraine_twitter_dataset/510/files\n",
      "Moved 20230518_to_20230520_UkraineCombinedTweetsDeduped.csv to /content/ukraine_twitter_dataset/510/files\n",
      "Moved 20230208_UkraineCombinedTweetsDeduped.csv to /content/ukraine_twitter_dataset/510/files\n",
      "Moved 0906_UkraineCombinedTweetsDeduped.csv to /content/ukraine_twitter_dataset/510/files\n",
      "Moved 1126_UkraineCombinedTweetsDeduped.csv to /content/ukraine_twitter_dataset/510/files\n",
      "Moved 0924_UkraineCombinedTweetsDeduped.csv to /content/ukraine_twitter_dataset/510/files\n",
      "Moved 20230424_UkraineCombinedTweetsDeduped.csv to /content/ukraine_twitter_dataset/510/files\n",
      "Moved 20230530_UkraineCombinedTweetsDeduped.csv to /content/ukraine_twitter_dataset/510/files\n",
      "Moved 20230408_UkraineCombinedTweetsDeduped.csv to /content/ukraine_twitter_dataset/510/files\n",
      "Moved 20230322_UkraineCombinedTweetsDeduped.csv to /content/ukraine_twitter_dataset/510/files\n",
      "Moved 20230525_UkraineCombinedTweetsDeduped.csv to /content/ukraine_twitter_dataset/510/files\n",
      "Moved 20230412_UkraineCombinedTweetsDeduped.csv to /content/ukraine_twitter_dataset/510/files\n",
      "Moved 20230521_UkraineCombinedTweetsDeduped.csv to /content/ukraine_twitter_dataset/510/files\n",
      "Moved 20230304_UkraineCombinedTweetsDeduped.csv to /content/ukraine_twitter_dataset/510/files\n",
      "Moved 1111_UkraineCombinedTweetsDeduped.csv to /content/ukraine_twitter_dataset/510/files\n",
      "Moved 20230403_UkraineCombinedTweetsDeduped.csv to /content/ukraine_twitter_dataset/510/files\n",
      "Moved 20230204_UkraineCombinedTweetsDeduped.csv to /content/ukraine_twitter_dataset/510/files\n",
      "Moved 1024_UkraineCombinedTweetsDeduped.csv to /content/ukraine_twitter_dataset/510/files\n",
      "Moved 1205_UkraineCombinedTweetsDeduped.csv to /content/ukraine_twitter_dataset/510/files\n",
      "Moved 20230104_UkraineCombinedTweetsDeduped.csv to /content/ukraine_twitter_dataset/510/files\n",
      "Moved 20230127_UkraineCombinedTweetsDeduped.csv to /content/ukraine_twitter_dataset/510/files\n",
      "Moved 1209_UkraineCombinedTweetsDeduped.csv to /content/ukraine_twitter_dataset/510/files\n",
      "Moved 20230513_UkraineCombinedTweetsDeduped.csv to /content/ukraine_twitter_dataset/510/files\n",
      "Moved 20230131_UkraineCombinedTweetsDeduped.csv to /content/ukraine_twitter_dataset/510/files\n",
      "Moved 20230319_UkraineCombinedTweetsDeduped.csv to /content/ukraine_twitter_dataset/510/files\n",
      "Moved 0915_UkraineCombinedTweetsDeduped.csv to /content/ukraine_twitter_dataset/510/files\n",
      "Moved 0908_UkraineCombinedTweetsDeduped.csv to /content/ukraine_twitter_dataset/510/files\n",
      "Moved 20230527_UkraineCombinedTweetsDeduped.csv to /content/ukraine_twitter_dataset/510/files\n",
      "Moved 20230205_UkraineCombinedTweetsDeduped.csv to /content/ukraine_twitter_dataset/510/files\n",
      "Moved 1101_UkraineCombinedTweetsDeduped.csv to /content/ukraine_twitter_dataset/510/files\n",
      "Moved 20230108_UkraineCombinedTweetsDeduped.csv to /content/ukraine_twitter_dataset/510/files\n",
      "Moved 20230124_UkraineCombinedTweetsDeduped.csv to /content/ukraine_twitter_dataset/510/files\n",
      "Moved 20230402_UkraineCombinedTweetsDeduped.csv to /content/ukraine_twitter_dataset/510/files\n",
      "Moved 1204_UkraineCombinedTweetsDeduped.csv to /content/ukraine_twitter_dataset/510/files\n",
      "Moved 1018_UkraineCombinedTweetsDeduped.csv to /content/ukraine_twitter_dataset/510/files\n",
      "Moved 20230326_UkraineCombinedTweetsDeduped.csv to /content/ukraine_twitter_dataset/510/files\n",
      "Moved 1215_UkraineCombinedTweetsDeduped.csv to /content/ukraine_twitter_dataset/510/files\n",
      "Moved 0928_UkraineCombinedTweetsDeduped.csv to /content/ukraine_twitter_dataset/510/files\n",
      "Moved 1231_UkraineCombinedTweetsDeduped.csv to /content/ukraine_twitter_dataset/510/files\n",
      "Moved 20230214_UkraineCombinedTweetsDeduped.csv to /content/ukraine_twitter_dataset/510/files\n",
      "Moved 20230526_UkraineCombinedTweetsDeduped.csv to /content/ukraine_twitter_dataset/510/files\n",
      "Moved 20230509_UkraineCombinedTweetsDeduped.csv to /content/ukraine_twitter_dataset/510/files\n",
      "Moved 0923_UkraineCombinedTweetsDeduped.csv to /content/ukraine_twitter_dataset/510/files\n",
      "Moved 1105_UkraineCombinedTweetsDeduped.csv to /content/ukraine_twitter_dataset/510/files\n",
      "Moved 0904_UkraineCombinedTweetsDeduped.csv to /content/ukraine_twitter_dataset/510/files\n",
      "Moved 0911_UkraineCombinedTweetsDeduped.csv to /content/ukraine_twitter_dataset/510/files\n",
      "Moved 0830_UkraineCombinedTweetsDeduped.csv to /content/ukraine_twitter_dataset/510/files\n",
      "Moved 0827_UkraineCombinedTweetsDeduped.csv to /content/ukraine_twitter_dataset/510/files\n",
      "Moved 1108_UkraineCombinedTweetsDeduped.csv to /content/ukraine_twitter_dataset/510/files\n",
      "Moved 20230114_UkraineCombinedTweetsDeduped.csv to /content/ukraine_twitter_dataset/510/files\n",
      "Moved 20230221_UkraineCombinedTweetsDeduped.csv to /content/ukraine_twitter_dataset/510/files\n",
      "Moved 1211_UkraineCombinedTweetsDeduped.csv to /content/ukraine_twitter_dataset/510/files\n",
      "Moved 20230218_UkraineCombinedTweetsDeduped.csv to /content/ukraine_twitter_dataset/510/files\n",
      "Moved 1016_UkraineCombinedTweetsDeduped.csv to /content/ukraine_twitter_dataset/510/files\n",
      "Moved 20230324_UkraineCombinedTweetsDeduped.csv to /content/ukraine_twitter_dataset/510/files\n",
      "Moved 1119_UkraineCombinedTweetsDeduped.csv to /content/ukraine_twitter_dataset/510/files\n",
      "Moved 20230522_UkraineCombinedTweetsDeduped.csv to /content/ukraine_twitter_dataset/510/files\n",
      "Moved 0921_UkraineCombinedTweetsDeduped.csv to /content/ukraine_twitter_dataset/510/files\n",
      "Moved 0919_UkraineCombinedTweetsDeduped.csv to /content/ukraine_twitter_dataset/510/files\n",
      "Moved 20230410_UkraineCombinedTweetsDeduped.csv to /content/ukraine_twitter_dataset/510/files\n",
      "Moved 0929_UkraineCombinedTweetsDeduped.csv to /content/ukraine_twitter_dataset/510/files\n",
      "Moved 0822_UkraineCombinedTweetsDeduped.csv to /content/ukraine_twitter_dataset/510/files\n",
      "Moved 20230115_UkraineCombinedTweetsDeduped.csv to /content/ukraine_twitter_dataset/510/files\n",
      "Moved 0927_UkraineCombinedTweetsDeduped.csv to /content/ukraine_twitter_dataset/510/files\n",
      "Moved 20230531_UkraineCombinedTweetsDeduped.csv to /content/ukraine_twitter_dataset/510/files\n",
      "Moved 20230429_to_20230430_UkraineCombinedTweetsDeduped.csv to /content/ukraine_twitter_dataset/510/files\n",
      "Moved 0902_UkraineCombinedTweetsDeduped.csv to /content/ukraine_twitter_dataset/510/files\n",
      "Moved 1122_UkraineCombinedTweetsDeduped.csv to /content/ukraine_twitter_dataset/510/files\n",
      "Moved 20230409_UkraineCombinedTweetsDeduped.csv to /content/ukraine_twitter_dataset/510/files\n",
      "Moved 1210_UkraineCombinedTweetsDeduped.csv to /content/ukraine_twitter_dataset/510/files\n",
      "Moved 0825_UkraineCombinedTweetsDeduped.csv to /content/ukraine_twitter_dataset/510/files\n",
      "Moved 0829_UkraineCombinedTweetsDeduped.csv to /content/ukraine_twitter_dataset/510/files\n",
      "Moved 1120_UkraineCombinedTweetsDeduped.csv to /content/ukraine_twitter_dataset/510/files\n",
      "Moved 20230415_UkraineCombinedTweetsDeduped.csv to /content/ukraine_twitter_dataset/510/files\n",
      "Moved 1219_UkraineCombinedTweetsDeduped.csv to /content/ukraine_twitter_dataset/510/files\n",
      "Moved 20230327_UkraineCombinedTweetsDeduped.csv to /content/ukraine_twitter_dataset/510/files\n",
      "Moved 20230121_UkraineCombinedTweetsDeduped.csv to /content/ukraine_twitter_dataset/510/files\n",
      "Moved 1025_UkraineCombinedTweetsDeduped.csv to /content/ukraine_twitter_dataset/510/files\n",
      "Moved 20230308_UkraineCombinedTweetsDeduped.csv to /content/ukraine_twitter_dataset/510/files\n",
      "Moved 20230129_UkraineCombinedTweetsDeduped.csv to /content/ukraine_twitter_dataset/510/files\n",
      "Moved 0918_UkraineCombinedTweetsDeduped.csv to /content/ukraine_twitter_dataset/510/files\n",
      "Moved 20230323_UkraineCombinedTweetsDeduped.csv to /content/ukraine_twitter_dataset/510/files\n",
      "Moved 20230330_UkraineCombinedTweetsDeduped.csv to /content/ukraine_twitter_dataset/510/files\n",
      "Moved 20230125_UkraineCombinedTweetsDeduped.csv to /content/ukraine_twitter_dataset/510/files\n",
      "Moved 20230220_UkraineCombinedTweetsDeduped.csv to /content/ukraine_twitter_dataset/510/files\n",
      "Moved 1223_UkraineCombinedTweetsDeduped.csv to /content/ukraine_twitter_dataset/510/files\n",
      "Moved 20230211_UkraineCombinedTweetsDeduped.csv to /content/ukraine_twitter_dataset/510/files\n",
      "Moved 0922_UkraineCombinedTweetsDeduped.csv to /content/ukraine_twitter_dataset/510/files\n",
      "Moved 1225_UkraineCombinedTweetsDeduped.csv to /content/ukraine_twitter_dataset/510/files\n",
      "Moved 1029_UkraineCombinedTweetsDeduped.csv to /content/ukraine_twitter_dataset/510/files\n",
      "Moved 1014_UkraineCombinedTweetsDeduped.csv to /content/ukraine_twitter_dataset/510/files\n",
      "Moved 1027_UkraineCombinedTweetsDeduped.csv to /content/ukraine_twitter_dataset/510/files\n",
      "Moved 1124_UkraineCombinedTweetsDeduped.csv to /content/ukraine_twitter_dataset/510/files\n",
      "Moved 1115_UkraineCombinedTweetsDeduped.csv to /content/ukraine_twitter_dataset/510/files\n",
      "Moved 20230401_UkraineCombinedTweetsDeduped.csv to /content/ukraine_twitter_dataset/510/files\n",
      "Moved 20230307_UkraineCombinedTweetsDeduped.csv to /content/ukraine_twitter_dataset/510/files\n",
      "Moved 20230406_UkraineCombinedTweetsDeduped.csv to /content/ukraine_twitter_dataset/510/files\n",
      "Moved 1221_UkraineCombinedTweetsDeduped.csv to /content/ukraine_twitter_dataset/510/files\n",
      "Moved 20230413_UkraineCombinedTweetsDeduped.csv to /content/ukraine_twitter_dataset/510/files\n",
      "Moved 0914_UkraineCombinedTweetsDeduped.csv to /content/ukraine_twitter_dataset/510/files\n",
      "Moved 1010_UkraineCombinedTweetsDeduped.csv to /content/ukraine_twitter_dataset/510/files\n",
      "Moved 0831_UkraineCombinedTweetsDeduped.csv to /content/ukraine_twitter_dataset/510/files\n",
      "Moved 0903_UkraineCombinedTweetsDeduped.csv to /content/ukraine_twitter_dataset/510/files\n",
      "Moved 1128_UkraineCombinedTweetsDeduped.csv to /content/ukraine_twitter_dataset/510/files\n",
      "Moved 20230321_UkraineCombinedTweetsDeduped.csv to /content/ukraine_twitter_dataset/510/files\n",
      "Moved 1118_UkraineCombinedTweetsDeduped.csv to /content/ukraine_twitter_dataset/510/files\n",
      "Moved 0909_UkraineCombinedTweetsDeduped.csv to /content/ukraine_twitter_dataset/510/files\n",
      "Moved 20230212_UkraineCombinedTweetsDeduped.csv to /content/ukraine_twitter_dataset/510/files\n",
      "Moved 0820_UkraineCombinedTweetsDeduped.csv to /content/ukraine_twitter_dataset/510/files\n",
      "Moved 20230210_UkraineCombinedTweetsDeduped.csv to /content/ukraine_twitter_dataset/510/files\n",
      "Moved 0819_UkraineCombinedTweetsDeduped.csv to /content/ukraine_twitter_dataset/510/files\n",
      "Moved 20230126_UkraineCombinedTweetsDeduped.csv to /content/ukraine_twitter_dataset/510/files\n",
      "Moved 0905_UkraineCombinedTweetsDeduped.csv to /content/ukraine_twitter_dataset/510/files\n",
      "Moved 0823_UkraineCombinedTweetsDeduped.csv to /content/ukraine_twitter_dataset/510/files\n",
      "Moved 1216_UkraineCombinedTweetsDeduped.csv to /content/ukraine_twitter_dataset/510/files\n",
      "Moved 20230328_UkraineCombinedTweetsDeduped.csv to /content/ukraine_twitter_dataset/510/files\n",
      "Moved 20230419_UkraineCombinedTweetsDeduped.csv to /content/ukraine_twitter_dataset/510/files\n",
      "Moved 1212_UkraineCombinedTweetsDeduped.csv to /content/ukraine_twitter_dataset/510/files\n",
      "Moved 20230426_UkraineCombinedTweetsDeduped.csv to /content/ukraine_twitter_dataset/510/files\n",
      "Moved 1226_UkraineCombinedTweetsDeduped.csv to /content/ukraine_twitter_dataset/510/files\n",
      "Moved 20230110_UkraineCombinedTweetsDeduped.csv to /content/ukraine_twitter_dataset/510/files\n",
      "Moved 20230123_UkraineCombinedTweetsDeduped.csv to /content/ukraine_twitter_dataset/510/files\n",
      "Moved 1019_UkraineCombinedTweetsDeduped.csv to /content/ukraine_twitter_dataset/510/files\n",
      "Moved 20230511_to_20230512_UkraineCombinedTweetsDeduped.csv to /content/ukraine_twitter_dataset/510/files\n",
      "Moved 20230608_UkraineCombinedTweetsDeduped.csv to /content/ukraine_twitter_dataset/510/files\n",
      "Moved 1005_UkraineCombinedTweetsDeduped.csv to /content/ukraine_twitter_dataset/510/files\n",
      "Moved 1202_UkraineCombinedTweetsDeduped.csv to /content/ukraine_twitter_dataset/510/files\n",
      "Moved 1203_UkraineCombinedTweetsDeduped.csv to /content/ukraine_twitter_dataset/510/files\n",
      "Moved 1117_UkraineCombinedTweetsDeduped.csv to /content/ukraine_twitter_dataset/510/files\n",
      "Moved 20230106_UkraineCombinedTweetsDeduped.csv to /content/ukraine_twitter_dataset/510/files\n",
      "Moved 1214_UkraineCombinedTweetsDeduped.csv to /content/ukraine_twitter_dataset/510/files\n",
      "Moved 20230313_UkraineCombinedTweetsDeduped.csv to /content/ukraine_twitter_dataset/510/files\n",
      "Moved 20230228_UkraineCombinedTweetsDeduped.csv to /content/ukraine_twitter_dataset/510/files\n",
      "Moved 1213_UkraineCombinedTweetsDeduped.csv to /content/ukraine_twitter_dataset/510/files\n",
      "Moved 20230309_UkraineCombinedTweetsDeduped.csv to /content/ukraine_twitter_dataset/510/files\n",
      "Moved 20230529_UkraineCombinedTweetsDeduped.csv to /content/ukraine_twitter_dataset/510/files\n",
      "Moved 20230217_UkraineCombinedTweetsDeduped.csv to /content/ukraine_twitter_dataset/510/files\n",
      "Moved 20230103_UkraineCombinedTweetsDeduped.csv to /content/ukraine_twitter_dataset/510/files\n",
      "Moved 20230609_UkraineCombinedTweetsDeduped.csv to /content/ukraine_twitter_dataset/510/files\n",
      "Moved 20230102_UkraineCombinedTweetsDeduped.csv to /content/ukraine_twitter_dataset/510/files\n",
      "Moved 20230227_UkraineCombinedTweetsDeduped.csv to /content/ukraine_twitter_dataset/510/files\n",
      "Moved 1217_UkraineCombinedTweetsDeduped.csv to /content/ukraine_twitter_dataset/510/files\n",
      "Moved 20230514_UkraineCombinedTweetsDeduped.csv to /content/ukraine_twitter_dataset/510/files\n",
      "Moved 1028_UkraineCombinedTweetsDeduped.csv to /content/ukraine_twitter_dataset/510/files\n",
      "Moved 1006_UkraineCombinedTweetsDeduped.csv to /content/ukraine_twitter_dataset/510/files\n",
      "Moved 1012_UkraineCombinedTweetsDeduped.csv to /content/ukraine_twitter_dataset/510/files\n",
      "Moved 20230329_UkraineCombinedTweetsDeduped.csv to /content/ukraine_twitter_dataset/510/files\n",
      "Moved 20230222_UkraineCombinedTweetsDeduped.csv to /content/ukraine_twitter_dataset/510/files\n",
      "Moved 20230311_UkraineCombinedTweetsDeduped.csv to /content/ukraine_twitter_dataset/510/files\n",
      "Moved 1125_UkraineCombinedTweetsDeduped.csv to /content/ukraine_twitter_dataset/510/files\n",
      "Moved 20230505_to_20230508_UkraineCombinedTweetsDeduped.csv to /content/ukraine_twitter_dataset/510/files\n",
      "Moved 20230206_UkraineCombinedTweetsDeduped.csv to /content/ukraine_twitter_dataset/510/files\n",
      "Moved 1015_UkraineCombinedTweetsDeduped.csv to /content/ukraine_twitter_dataset/510/files\n",
      "Moved 20230107_UkraineCombinedTweetsDeduped.csv to /content/ukraine_twitter_dataset/510/files\n",
      "Moved 20230215_UkraineCombinedTweetsDeduped.csv to /content/ukraine_twitter_dataset/510/files\n",
      "Moved 20230223_UkraineCombinedTweetsDeduped.csv to /content/ukraine_twitter_dataset/510/files\n",
      "Moved 1013_UkraineCombinedTweetsDeduped.csv to /content/ukraine_twitter_dataset/510/files\n",
      "Moved 1004_UkraineCombinedTweetsDeduped.csv to /content/ukraine_twitter_dataset/510/files\n",
      "Moved 0917_UkraineCombinedTweetsDeduped.csv to /content/ukraine_twitter_dataset/510/files\n",
      "Moved 1127_UkraineCombinedTweetsDeduped.csv to /content/ukraine_twitter_dataset/510/files\n",
      "Moved 20230312_UkraineCombinedTweetsDeduped.csv to /content/ukraine_twitter_dataset/510/files\n",
      "Moved 1021_UkraineCombinedTweetsDeduped.csv to /content/ukraine_twitter_dataset/510/files\n",
      "Moved 20230614_UkraineCombinedTweetsDeduped.csv to /content/ukraine_twitter_dataset/510/files\n"
     ]
    }
   ]
  },
  {
   "cell_type": "markdown",
   "source": [
    "# Compress processed files #"
   ],
   "metadata": {
    "id": "7_yod9pTjDiV"
   }
  },
  {
   "cell_type": "code",
   "source": [
    "\n",
    "# Define the path to the folder you want to compress\n",
    "folder_to_compress = \"/content/ukraine_twitter_dataset/510/files\" # Replace with the actual path to your folder\n",
    "\n",
    "# Define the name for the output zip file\n",
    "zip_file_name = \"ukraine_dataset_files.zip\" # You can change this name\n",
    "\n",
    "# Construct the zip command\n",
    "zip_command = f\"zip -r {zip_file_name} {folder_to_compress}\"\n",
    "\n",
    "# Run the command\n",
    "os.system(zip_command)\n",
    "\n",
    "print(f\"Folder '{folder_to_compress}' compressed to '{zip_file_name}'\")"
   ],
   "metadata": {
    "colab": {
     "base_uri": "https://localhost:8080/"
    },
    "id": "Jdrr-lI3Mumq",
    "outputId": "cf306e7b-75c9-4655-8e45-72f0d184a13c"
   },
   "execution_count": null,
   "outputs": [
    {
     "output_type": "stream",
     "name": "stdout",
     "text": [
      "Folder '/content/ukraine_twitter_dataset/510/files' compressed to 'ukraine_dataset_files.zip'\n"
     ]
    }
   ]
  },
  {
   "cell_type": "markdown",
   "source": [
    "# Create a new CSV file that contains only the labeled records #"
   ],
   "metadata": {
    "id": "x0N51QD9ka7C"
   }
  },
  {
   "cell_type": "code",
   "source": [
    "import os\n",
    "\n",
    "# Define the path to the directory containing the merged CSV files\n",
    "merged_files_directory = \"/content/ukraine_twitter_dataset/510/files\" # This should be the directory where you saved the merged files\n",
    "\n",
    "# Initialize an empty list to store the labeled dataframes\n",
    "labeled_dataframes = []\n",
    "\n",
    "# Iterate through the files in the directory\n",
    "for file_name in os.listdir(merged_files_directory):\n",
    "    if file_name.endswith('.csv'):\n",
    "        file_path = os.path.join(merged_files_directory, file_name)\n",
    "\n",
    "        try:\n",
    "            # Read the merged CSV file\n",
    "            merged_df = pd.read_csv(file_path)\n",
    "\n",
    "            # Filter for rows where the 'label' column is not NaN\n",
    "            labeled_df = merged_df.dropna(subset=['label'])\n",
    "\n",
    "            # Append the filtered dataframe to the list\n",
    "            labeled_dataframes.append(labeled_df)\n",
    "\n",
    "            print(f\"Processed {file_name}\")\n",
    "\n",
    "        except Exception as e:\n",
    "            print(f\"Error processing {file_name}: {e}\")\n",
    "\n",
    "# Concatenate all labeled dataframes\n",
    "final_labeled_df = pd.concat(labeled_dataframes, ignore_index=True)\n",
    "\n",
    "# Define the output path for the new CSV file\n",
    "output_csv_path = \"labeled_sunset.csv\"\n",
    "\n",
    "# Save the combined labeled dataframe to a new CSV file\n",
    "final_labeled_df.to_csv(output_csv_path, index=False)\n",
    "\n",
    "print(f\"Created '{output_csv_path}' with all labeled records.\")"
   ],
   "metadata": {
    "colab": {
     "base_uri": "https://localhost:8080/"
    },
    "id": "7CWvw4XLVFy6",
    "outputId": "a9036017-5994-4812-9561-177a105a2558"
   },
   "execution_count": null,
   "outputs": [
    {
     "output_type": "stream",
     "name": "stdout",
     "text": [
      "Processed 0907_UkraineCombinedTweetsDeduped.csv\n",
      "Processed 1130_UkraineCombinedTweetsDeduped.csv\n",
      "Processed 0926_UkraineCombinedTweetsDeduped.csv\n",
      "Processed 20230318_UkraineCombinedTweetsDeduped.csv\n",
      "Processed 20230421_UkraineCombinedTweetsDeduped.csv\n",
      "Processed 20230325_UkraineCombinedTweetsDeduped.csv\n",
      "Processed 20230427_UkraineCombinedTweetsDeduped.csv\n",
      "Processed 20230331_UkraineCombinedTweetsDeduped.csv\n",
      "Processed 20230605_UkraineCombinedTweetsDeduped.csv\n",
      "Processed 1207_UkraineCombinedTweetsDeduped.csv\n",
      "Processed 20230610_UkraineCombinedTweetsDeduped.csv\n",
      "Processed 20230603_UkraineCombinedTweetsDeduped.csv\n",
      "Processed 1002_UkraineCombinedTweetsDeduped.csv\n",
      "Processed 1201_UkraineCombinedTweetsDeduped.csv\n",
      "Processed 20230119_UkraineCombinedTweetsDeduped.csv\n",
      "Processed 0826_UkraineCombinedTweetsDeduped.csv\n",
      "Processed 20230407_UkraineCombinedTweetsDeduped.csv\n",
      "Processed 20230302_UkraineCombinedTweetsDeduped.csv\n",
      "Processed 1110_UkraineCombinedTweetsDeduped.csv\n",
      "Processed 20230112_UkraineCombinedTweetsDeduped.csv\n",
      "Processed 20230105_UkraineCombinedTweetsDeduped.csv\n",
      "Processed 20230225_UkraineCombinedTweetsDeduped.csv\n",
      "Processed 20230428_UkraineCombinedTweetsDeduped.csv\n",
      "Processed 1008_UkraineCombinedTweetsDeduped.csv\n",
      "Processed 20230113_UkraineCombinedTweetsDeduped.csv\n",
      "Processed 20230607_UkraineCombinedTweetsDeduped.csv\n",
      "Processed 20230320_UkraineCombinedTweetsDeduped.csv\n",
      "Processed 1106_UkraineCombinedTweetsDeduped.csv\n",
      "Processed 20230315_UkraineCombinedTweetsDeduped.csv\n",
      "Processed 20230305_UkraineCombinedTweetsDeduped.csv\n",
      "Processed 20230613_UkraineCombinedTweetsDeduped.csv\n",
      "Processed 1026_UkraineCombinedTweetsDeduped.csv\n",
      "Processed 20230203_UkraineCombinedTweetsDeduped.csv\n",
      "Processed 20230404_UkraineCombinedTweetsDeduped.csv\n",
      "Processed 1023_UkraineCombinedTweetsDeduped.csv\n",
      "Processed 20230418_UkraineCombinedTweetsDeduped.csv\n",
      "Processed 20230501_to_20230502_UkraineCombinedTweetsDeduped.csv\n",
      "Processed 20230524_UkraineCombinedTweetsDeduped.csv\n",
      "Processed 20230411_UkraineCombinedTweetsDeduped.csv\n",
      "Processed 20230504_UkraineCombinedTweetsDeduped.csv\n"
     ]
    },
    {
     "output_type": "stream",
     "name": "stderr",
     "text": [
      "<ipython-input-1-f00ffb742d2b>:17: DtypeWarning: Columns (15) have mixed types. Specify dtype option on import or set low_memory=False.\n",
      "  merged_df = pd.read_csv(file_path)\n"
     ]
    },
    {
     "output_type": "stream",
     "name": "stdout",
     "text": [
      "Processed 1001_UkraineCombinedTweetsDeduped.csv\n",
      "Processed 20230213_UkraineCombinedTweetsDeduped.csv\n",
      "Processed 20230414_UkraineCombinedTweetsDeduped.csv\n",
      "Processed 1102_UkraineCombinedTweetsDeduped.csv\n",
      "Processed 0916_UkraineCombinedTweetsDeduped.csv\n",
      "Processed 1230_UkraineCombinedTweetsDeduped.csv\n",
      "Processed 20230314_UkraineCombinedTweetsDeduped.csv\n",
      "Processed 1011_UkraineCombinedTweetsDeduped.csv\n",
      "Processed 20230303_UkraineCombinedTweetsDeduped.csv\n",
      "Processed 1121_UkraineCombinedTweetsDeduped.csv\n",
      "Processed 1022_UkraineCombinedTweetsDeduped.csv\n",
      "Processed 20230224_UkraineCombinedTweetsDeduped.csv\n",
      "Processed 20230517_UkraineCombinedTweetsDeduped.csv\n",
      "Processed 20230202_UkraineCombinedTweetsDeduped.csv\n",
      "Processed 20230219_UkraineCombinedTweetsDeduped.csv\n",
      "Processed 20230417_UkraineCombinedTweetsDeduped.csv\n",
      "Processed 20230523_UkraineCombinedTweetsDeduped.csv\n",
      "Processed 20230201_UkraineCombinedTweetsDeduped.csv\n",
      "Processed 20230122_UkraineCombinedTweetsDeduped.csv\n",
      "Processed 20230306_UkraineCombinedTweetsDeduped.csv\n",
      "Processed 20230101_UkraineCombinedTweetsDeduped.csv\n",
      "Processed 1114_UkraineCombinedTweetsDeduped.csv\n",
      "Processed 0925_UkraineCombinedTweetsDeduped.csv\n",
      "Processed 0913_UkraineCombinedTweetsDeduped.csv\n",
      "Processed 0912_UkraineCombinedTweetsDeduped.csv\n",
      "Processed 20230118_UkraineCombinedTweetsDeduped.csv\n",
      "Processed 1227_UkraineCombinedTweetsDeduped.csv\n",
      "Processed 1229_UkraineCombinedTweetsDeduped.csv\n",
      "Processed 20230117_UkraineCombinedTweetsDeduped.csv\n",
      "Processed 20230216_UkraineCombinedTweetsDeduped.csv\n",
      "Processed 20230528_UkraineCombinedTweetsDeduped.csv\n",
      "Processed 20230128_UkraineCombinedTweetsDeduped.csv\n",
      "Processed 1112_UkraineCombinedTweetsDeduped.csv\n",
      "Processed 20230612_UkraineCombinedTweetsDeduped.csv\n",
      "Processed 1109_UkraineCombinedTweetsDeduped.csv\n",
      "Processed 1104_UkraineCombinedTweetsDeduped.csv\n",
      "Processed 20230405_UkraineCombinedTweetsDeduped.csv\n",
      "Processed 1107_UkraineCombinedTweetsDeduped.csv\n",
      "Processed 1007_UkraineCombinedTweetsDeduped.csv\n",
      "Processed 1031_UkraineCombinedTweetsDeduped.csv\n",
      "Processed 0930_UkraineCombinedTweetsDeduped.csv\n",
      "Processed 20230209_UkraineCombinedTweetsDeduped.csv\n",
      "Processed 1129_UkraineCombinedTweetsDeduped.csv\n",
      "Processed 20230316_UkraineCombinedTweetsDeduped.csv\n",
      "Processed 0824_UkraineCombinedTweetsDeduped.csv\n",
      "Processed 1228_UkraineCombinedTweetsDeduped.csv\n",
      "Processed 20230310_UkraineCombinedTweetsDeduped.csv\n",
      "Processed 20230601_UkraineCombinedTweetsDeduped.csv\n",
      "Processed 1030_UkraineCombinedTweetsDeduped.csv\n",
      "Processed 20230604_UkraineCombinedTweetsDeduped.csv\n",
      "Processed 20230111_UkraineCombinedTweetsDeduped.csv\n",
      "Processed 0920_UkraineCombinedTweetsDeduped.csv\n",
      "Processed 1020_UkraineCombinedTweetsDeduped.csv\n",
      "Processed 0828_UkraineCombinedTweetsDeduped.csv\n",
      "Processed 1224_UkraineCombinedTweetsDeduped.csv\n",
      "Processed 20230423_UkraineCombinedTweetsDeduped.csv\n",
      "Processed 20230226_UkraineCombinedTweetsDeduped.csv\n",
      "Processed 20230207_UkraineCombinedTweetsDeduped.csv\n",
      "Processed 1116_UkraineCombinedTweetsDeduped.csv\n",
      "Processed 20230317_UkraineCombinedTweetsDeduped.csv\n",
      "Processed 1123_UkraineCombinedTweetsDeduped.csv\n",
      "Processed 0821_UkraineCombinedTweetsDeduped.csv\n",
      "Processed 20230606_UkraineCombinedTweetsDeduped.csv\n",
      "Processed 20230120_UkraineCombinedTweetsDeduped.csv\n",
      "Processed 1113_UkraineCombinedTweetsDeduped.csv\n",
      "Processed 1222_UkraineCombinedTweetsDeduped.csv\n",
      "Processed 1208_UkraineCombinedTweetsDeduped.csv\n",
      "Processed 20230425_UkraineCombinedTweetsDeduped.csv\n",
      "Processed 1017_UkraineCombinedTweetsDeduped.csv\n",
      "Processed 20230611_UkraineCombinedTweetsDeduped.csv\n",
      "Processed 20230420_UkraineCombinedTweetsDeduped.csv\n",
      "Processed 1103_UkraineCombinedTweetsDeduped.csv\n",
      "Processed 20230130_UkraineCombinedTweetsDeduped.csv\n",
      "Processed 1220_UkraineCombinedTweetsDeduped.csv\n",
      "Processed 20230422_UkraineCombinedTweetsDeduped.csv\n",
      "Processed 1218_UkraineCombinedTweetsDeduped.csv\n",
      "Processed 0910_UkraineCombinedTweetsDeduped.csv\n",
      "Processed 0901_UkraineCombinedTweetsDeduped.csv\n",
      "Processed 20230602_UkraineCombinedTweetsDeduped.csv\n",
      "Processed 20230416_UkraineCombinedTweetsDeduped.csv\n",
      "Processed 20230503_UkraineCombinedTweetsDeduped.csv\n",
      "Processed 20230116_UkraineCombinedTweetsDeduped.csv\n",
      "Processed 1009_UkraineCombinedTweetsDeduped.csv\n",
      "Processed 20230510_UkraineCombinedTweetsDeduped.csv\n",
      "Processed 1206_UkraineCombinedTweetsDeduped.csv\n",
      "Processed 20230301_UkraineCombinedTweetsDeduped.csv\n",
      "Processed 20230109_UkraineCombinedTweetsDeduped.csv\n",
      "Processed 1003_UkraineCombinedTweetsDeduped.csv\n"
     ]
    },
    {
     "output_type": "stream",
     "name": "stderr",
     "text": [
      "<ipython-input-1-f00ffb742d2b>:17: DtypeWarning: Columns (15) have mixed types. Specify dtype option on import or set low_memory=False.\n",
      "  merged_df = pd.read_csv(file_path)\n"
     ]
    },
    {
     "output_type": "stream",
     "name": "stdout",
     "text": [
      "Processed 20230518_to_20230520_UkraineCombinedTweetsDeduped.csv\n",
      "Processed 20230208_UkraineCombinedTweetsDeduped.csv\n",
      "Processed 0906_UkraineCombinedTweetsDeduped.csv\n",
      "Processed 1126_UkraineCombinedTweetsDeduped.csv\n",
      "Processed 0924_UkraineCombinedTweetsDeduped.csv\n",
      "Processed 20230424_UkraineCombinedTweetsDeduped.csv\n",
      "Processed 20230530_UkraineCombinedTweetsDeduped.csv\n",
      "Processed 20230408_UkraineCombinedTweetsDeduped.csv\n",
      "Processed 20230322_UkraineCombinedTweetsDeduped.csv\n",
      "Processed 20230525_UkraineCombinedTweetsDeduped.csv\n",
      "Processed 20230412_UkraineCombinedTweetsDeduped.csv\n",
      "Processed 20230521_UkraineCombinedTweetsDeduped.csv\n",
      "Processed 20230304_UkraineCombinedTweetsDeduped.csv\n",
      "Processed 1111_UkraineCombinedTweetsDeduped.csv\n",
      "Processed 20230403_UkraineCombinedTweetsDeduped.csv\n",
      "Processed 20230204_UkraineCombinedTweetsDeduped.csv\n",
      "Processed 1024_UkraineCombinedTweetsDeduped.csv\n",
      "Processed 1205_UkraineCombinedTweetsDeduped.csv\n",
      "Processed 20230104_UkraineCombinedTweetsDeduped.csv\n",
      "Processed 20230127_UkraineCombinedTweetsDeduped.csv\n",
      "Processed 1209_UkraineCombinedTweetsDeduped.csv\n",
      "Processed 20230513_UkraineCombinedTweetsDeduped.csv\n",
      "Processed 20230131_UkraineCombinedTweetsDeduped.csv\n",
      "Processed 20230319_UkraineCombinedTweetsDeduped.csv\n",
      "Processed 0915_UkraineCombinedTweetsDeduped.csv\n",
      "Processed 0908_UkraineCombinedTweetsDeduped.csv\n",
      "Processed 20230527_UkraineCombinedTweetsDeduped.csv\n",
      "Processed 20230205_UkraineCombinedTweetsDeduped.csv\n",
      "Processed 1101_UkraineCombinedTweetsDeduped.csv\n",
      "Processed 20230108_UkraineCombinedTweetsDeduped.csv\n",
      "Processed 20230124_UkraineCombinedTweetsDeduped.csv\n",
      "Processed 20230402_UkraineCombinedTweetsDeduped.csv\n",
      "Processed 1204_UkraineCombinedTweetsDeduped.csv\n",
      "Processed 1018_UkraineCombinedTweetsDeduped.csv\n",
      "Processed 20230326_UkraineCombinedTweetsDeduped.csv\n",
      "Processed 1215_UkraineCombinedTweetsDeduped.csv\n",
      "Processed 0928_UkraineCombinedTweetsDeduped.csv\n",
      "Processed 1231_UkraineCombinedTweetsDeduped.csv\n",
      "Processed 20230214_UkraineCombinedTweetsDeduped.csv\n",
      "Processed 20230526_UkraineCombinedTweetsDeduped.csv\n"
     ]
    },
    {
     "output_type": "stream",
     "name": "stderr",
     "text": [
      "<ipython-input-1-f00ffb742d2b>:17: DtypeWarning: Columns (15) have mixed types. Specify dtype option on import or set low_memory=False.\n",
      "  merged_df = pd.read_csv(file_path)\n"
     ]
    },
    {
     "output_type": "stream",
     "name": "stdout",
     "text": [
      "Processed 20230509_UkraineCombinedTweetsDeduped.csv\n",
      "Processed 0923_UkraineCombinedTweetsDeduped.csv\n",
      "Processed 1105_UkraineCombinedTweetsDeduped.csv\n",
      "Processed 0904_UkraineCombinedTweetsDeduped.csv\n",
      "Processed 0911_UkraineCombinedTweetsDeduped.csv\n",
      "Processed 0830_UkraineCombinedTweetsDeduped.csv\n",
      "Processed 0827_UkraineCombinedTweetsDeduped.csv\n",
      "Processed 1108_UkraineCombinedTweetsDeduped.csv\n",
      "Processed 20230114_UkraineCombinedTweetsDeduped.csv\n",
      "Processed 20230221_UkraineCombinedTweetsDeduped.csv\n",
      "Processed 1211_UkraineCombinedTweetsDeduped.csv\n",
      "Processed 20230218_UkraineCombinedTweetsDeduped.csv\n",
      "Processed 1016_UkraineCombinedTweetsDeduped.csv\n",
      "Processed 20230324_UkraineCombinedTweetsDeduped.csv\n",
      "Processed 1119_UkraineCombinedTweetsDeduped.csv\n",
      "Processed 20230522_UkraineCombinedTweetsDeduped.csv\n",
      "Processed 0921_UkraineCombinedTweetsDeduped.csv\n",
      "Processed 0919_UkraineCombinedTweetsDeduped.csv\n",
      "Processed 20230410_UkraineCombinedTweetsDeduped.csv\n",
      "Processed 0929_UkraineCombinedTweetsDeduped.csv\n",
      "Processed 0822_UkraineCombinedTweetsDeduped.csv\n",
      "Processed 20230115_UkraineCombinedTweetsDeduped.csv\n",
      "Processed 0927_UkraineCombinedTweetsDeduped.csv\n",
      "Processed 20230531_UkraineCombinedTweetsDeduped.csv\n",
      "Processed 20230429_to_20230430_UkraineCombinedTweetsDeduped.csv\n",
      "Processed 0902_UkraineCombinedTweetsDeduped.csv\n",
      "Processed 1122_UkraineCombinedTweetsDeduped.csv\n",
      "Processed 20230409_UkraineCombinedTweetsDeduped.csv\n",
      "Processed 1210_UkraineCombinedTweetsDeduped.csv\n",
      "Processed 0825_UkraineCombinedTweetsDeduped.csv\n",
      "Processed 0829_UkraineCombinedTweetsDeduped.csv\n",
      "Processed 1120_UkraineCombinedTweetsDeduped.csv\n",
      "Processed 20230415_UkraineCombinedTweetsDeduped.csv\n",
      "Processed 1219_UkraineCombinedTweetsDeduped.csv\n",
      "Processed 20230327_UkraineCombinedTweetsDeduped.csv\n",
      "Processed 20230121_UkraineCombinedTweetsDeduped.csv\n",
      "Processed 1025_UkraineCombinedTweetsDeduped.csv\n",
      "Processed 20230308_UkraineCombinedTweetsDeduped.csv\n",
      "Processed 20230129_UkraineCombinedTweetsDeduped.csv\n",
      "Processed 0918_UkraineCombinedTweetsDeduped.csv\n",
      "Processed 20230323_UkraineCombinedTweetsDeduped.csv\n",
      "Processed 20230330_UkraineCombinedTweetsDeduped.csv\n",
      "Processed 20230125_UkraineCombinedTweetsDeduped.csv\n",
      "Processed 20230220_UkraineCombinedTweetsDeduped.csv\n",
      "Processed 1223_UkraineCombinedTweetsDeduped.csv\n",
      "Processed 20230211_UkraineCombinedTweetsDeduped.csv\n",
      "Processed 0922_UkraineCombinedTweetsDeduped.csv\n",
      "Processed 1225_UkraineCombinedTweetsDeduped.csv\n",
      "Processed 1029_UkraineCombinedTweetsDeduped.csv\n",
      "Processed 1014_UkraineCombinedTweetsDeduped.csv\n",
      "Processed 1027_UkraineCombinedTweetsDeduped.csv\n",
      "Processed 1124_UkraineCombinedTweetsDeduped.csv\n",
      "Processed 1115_UkraineCombinedTweetsDeduped.csv\n"
     ]
    },
    {
     "output_type": "stream",
     "name": "stderr",
     "text": [
      "<ipython-input-1-f00ffb742d2b>:17: DtypeWarning: Columns (15) have mixed types. Specify dtype option on import or set low_memory=False.\n",
      "  merged_df = pd.read_csv(file_path)\n"
     ]
    },
    {
     "output_type": "stream",
     "name": "stdout",
     "text": [
      "Processed 20230401_UkraineCombinedTweetsDeduped.csv\n",
      "Processed 20230307_UkraineCombinedTweetsDeduped.csv\n",
      "Processed 20230406_UkraineCombinedTweetsDeduped.csv\n",
      "Processed 1221_UkraineCombinedTweetsDeduped.csv\n",
      "Processed 20230413_UkraineCombinedTweetsDeduped.csv\n",
      "Processed 0914_UkraineCombinedTweetsDeduped.csv\n",
      "Processed 1010_UkraineCombinedTweetsDeduped.csv\n",
      "Processed 0831_UkraineCombinedTweetsDeduped.csv\n",
      "Processed 0903_UkraineCombinedTweetsDeduped.csv\n",
      "Processed 1128_UkraineCombinedTweetsDeduped.csv\n",
      "Processed 20230321_UkraineCombinedTweetsDeduped.csv\n",
      "Processed 1118_UkraineCombinedTweetsDeduped.csv\n",
      "Processed 0909_UkraineCombinedTweetsDeduped.csv\n",
      "Processed 20230212_UkraineCombinedTweetsDeduped.csv\n",
      "Processed 0820_UkraineCombinedTweetsDeduped.csv\n",
      "Processed 20230210_UkraineCombinedTweetsDeduped.csv\n",
      "Processed 0819_UkraineCombinedTweetsDeduped.csv\n",
      "Processed 20230126_UkraineCombinedTweetsDeduped.csv\n",
      "Processed 0905_UkraineCombinedTweetsDeduped.csv\n",
      "Processed 0823_UkraineCombinedTweetsDeduped.csv\n",
      "Processed 1216_UkraineCombinedTweetsDeduped.csv\n",
      "Processed 20230328_UkraineCombinedTweetsDeduped.csv\n",
      "Processed 20230419_UkraineCombinedTweetsDeduped.csv\n",
      "Processed 1212_UkraineCombinedTweetsDeduped.csv\n",
      "Processed 20230426_UkraineCombinedTweetsDeduped.csv\n",
      "Processed 1226_UkraineCombinedTweetsDeduped.csv\n",
      "Processed 20230110_UkraineCombinedTweetsDeduped.csv\n",
      "Processed 20230123_UkraineCombinedTweetsDeduped.csv\n",
      "Processed 1019_UkraineCombinedTweetsDeduped.csv\n",
      "Processed 20230511_to_20230512_UkraineCombinedTweetsDeduped.csv\n",
      "Processed 20230608_UkraineCombinedTweetsDeduped.csv\n",
      "Processed 1005_UkraineCombinedTweetsDeduped.csv\n",
      "Processed 1202_UkraineCombinedTweetsDeduped.csv\n",
      "Processed 1203_UkraineCombinedTweetsDeduped.csv\n",
      "Processed 1117_UkraineCombinedTweetsDeduped.csv\n",
      "Processed 20230106_UkraineCombinedTweetsDeduped.csv\n",
      "Processed 1214_UkraineCombinedTweetsDeduped.csv\n",
      "Processed 20230313_UkraineCombinedTweetsDeduped.csv\n"
     ]
    },
    {
     "output_type": "stream",
     "name": "stderr",
     "text": [
      "<ipython-input-1-f00ffb742d2b>:17: DtypeWarning: Columns (15) have mixed types. Specify dtype option on import or set low_memory=False.\n",
      "  merged_df = pd.read_csv(file_path)\n"
     ]
    },
    {
     "output_type": "stream",
     "name": "stdout",
     "text": [
      "Processed 20230228_UkraineCombinedTweetsDeduped.csv\n",
      "Processed 1213_UkraineCombinedTweetsDeduped.csv\n",
      "Processed 20230309_UkraineCombinedTweetsDeduped.csv\n",
      "Processed 20230529_UkraineCombinedTweetsDeduped.csv\n",
      "Processed 20230217_UkraineCombinedTweetsDeduped.csv\n",
      "Processed 20230103_UkraineCombinedTweetsDeduped.csv\n",
      "Processed 20230609_UkraineCombinedTweetsDeduped.csv\n",
      "Processed 20230102_UkraineCombinedTweetsDeduped.csv\n",
      "Processed 20230227_UkraineCombinedTweetsDeduped.csv\n",
      "Processed 1217_UkraineCombinedTweetsDeduped.csv\n",
      "Processed 20230514_UkraineCombinedTweetsDeduped.csv\n",
      "Processed 1028_UkraineCombinedTweetsDeduped.csv\n",
      "Processed 1006_UkraineCombinedTweetsDeduped.csv\n",
      "Processed 1012_UkraineCombinedTweetsDeduped.csv\n",
      "Processed 20230329_UkraineCombinedTweetsDeduped.csv\n",
      "Processed 20230222_UkraineCombinedTweetsDeduped.csv\n",
      "Processed 20230311_UkraineCombinedTweetsDeduped.csv\n",
      "Processed 1125_UkraineCombinedTweetsDeduped.csv\n",
      "Processed 20230505_to_20230508_UkraineCombinedTweetsDeduped.csv\n",
      "Processed 20230206_UkraineCombinedTweetsDeduped.csv\n",
      "Processed 1015_UkraineCombinedTweetsDeduped.csv\n",
      "Processed 20230107_UkraineCombinedTweetsDeduped.csv\n",
      "Processed 20230215_UkraineCombinedTweetsDeduped.csv\n",
      "Processed 20230223_UkraineCombinedTweetsDeduped.csv\n",
      "Processed 1013_UkraineCombinedTweetsDeduped.csv\n",
      "Processed 1004_UkraineCombinedTweetsDeduped.csv\n",
      "Processed 0917_UkraineCombinedTweetsDeduped.csv\n",
      "Processed 1127_UkraineCombinedTweetsDeduped.csv\n",
      "Processed 20230312_UkraineCombinedTweetsDeduped.csv\n",
      "Processed 1021_UkraineCombinedTweetsDeduped.csv\n",
      "Processed 20230614_UkraineCombinedTweetsDeduped.csv\n",
      "Created 'labeled_sunset.csv' with all labeled records.\n"
     ]
    }
   ]
  },
  {
   "cell_type": "markdown",
   "source": [
    "# Check how much labeled records there are #\n",
    "##       Answer: 3287945  ##"
   ],
   "metadata": {
    "id": "CgDyeSgckm3t"
   }
  },
  {
   "cell_type": "code",
   "source": [
    "\n",
    "# Define the path to the labeled_sunset.csv file\n",
    "labeled_csv_path = \"labeled_sunset.csv\"\n",
    "\n",
    "try:\n",
    "    # Read the CSV file into a DataFrame\n",
    "    labeled_df = pd.read_csv(labeled_csv_path)\n",
    "\n",
    "    # Get the number of rows (records)\n",
    "    num_records = labeled_df.shape[0]\n",
    "\n",
    "    print(f\"The 'labeled_sunset.csv' file contains {num_records} records.\")\n",
    "\n",
    "except FileNotFoundError:\n",
    "    print(f\"Error: The file '{labeled_csv_path}' was not found.\")\n",
    "except Exception as e:\n",
    "    print(f\"An error occurred: {e}\")"
   ],
   "metadata": {
    "colab": {
     "base_uri": "https://localhost:8080/"
    },
    "id": "_fkQEGp4c9wF",
    "outputId": "8d29da9f-e4e0-4205-b67f-b7c2fc88a5ed"
   },
   "execution_count": null,
   "outputs": [
    {
     "output_type": "stream",
     "name": "stderr",
     "text": [
      "<ipython-input-2-5e61de6b1dbb>:8: DtypeWarning: Columns (20) have mixed types. Specify dtype option on import or set low_memory=False.\n",
      "  labeled_df = pd.read_csv(labeled_csv_path)\n"
     ]
    },
    {
     "output_type": "stream",
     "name": "stdout",
     "text": [
      "The 'labeled_sunset.csv' file contains 3287945 records.\n"
     ]
    }
   ]
  },
  {
   "cell_type": "markdown",
   "source": [
    "# Check how much unique labeled ID's there are #\n",
    "## Answer: 104288  ##"
   ],
   "metadata": {
    "id": "7TqGG-y6k32V"
   }
  },
  {
   "cell_type": "code",
   "source": [
    "\n",
    "# Define the path to the labeled_sunset.csv file\n",
    "labeled_csv_path = \"labeled_sunset.csv\"\n",
    "\n",
    "try:\n",
    "    # Read the CSV file into a DataFrame\n",
    "    labeled_df = pd.read_csv(labeled_csv_path)\n",
    "\n",
    "    # Get the number of unique IDs\n",
    "    num_unique_ids = labeled_df['id'].nunique()\n",
    "\n",
    "    print(f\"The 'labeled_sunset.csv' file contains {num_unique_ids} unique IDs.\")\n",
    "\n",
    "except FileNotFoundError:\n",
    "    print(f\"Error: The file '{labeled_csv_path}' was not found.\")\n",
    "except KeyError:\n",
    "    print(f\"Error: The 'id' column was not found in the file '{labeled_csv_path}'.\")\n",
    "except Exception as e:\n",
    "    print(f\"An error occurred: {e}\")"
   ],
   "metadata": {
    "colab": {
     "base_uri": "https://localhost:8080/"
    },
    "id": "0-sHt2lfeD0r",
    "outputId": "9d703fa7-9693-446c-c1ae-6a452266d775"
   },
   "execution_count": null,
   "outputs": [
    {
     "output_type": "stream",
     "name": "stderr",
     "text": [
      "<ipython-input-1-cbaff2a5e2b4>:8: DtypeWarning: Columns (20) have mixed types. Specify dtype option on import or set low_memory=False.\n",
      "  labeled_df = pd.read_csv(labeled_csv_path)\n"
     ]
    },
    {
     "output_type": "stream",
     "name": "stdout",
     "text": [
      "The 'labeled_sunset.csv' file contains 104288 unique IDs.\n"
     ]
    }
   ]
  },
  {
   "cell_type": "markdown",
   "source": [
    "# create bots csv and humans csv #"
   ],
   "metadata": {
    "id": "Muf8WvEjlO5M"
   }
  },
  {
   "cell_type": "code",
   "source": [
    "\n",
    "# Define the path to the labeled_sunset.csv file\n",
    "labeled_csv_path = \"labeled_sunset.csv\"\n",
    "try:\n",
    "    # Read the labeled_sunset.csv file into a DataFrame\n",
    "    labeled_df = pd.read_csv(labeled_csv_path)\n",
    "\n",
    "    # Filter for labeled bot records\n",
    "    bot_df = labeled_df[labeled_df['label'] == 'bot'].copy()\n",
    "\n",
    "    # Filter for labeled human records\n",
    "    human_df = labeled_df[labeled_df['label'] == 'human'].copy()\n",
    "\n",
    "    # Define the output paths for the new CSV files\n",
    "    bot_csv_path = \"bot.csv\"\n",
    "    human_csv_path = \"human.csv\"\n",
    "\n",
    "    # Save the bot DataFrame to bot.csv\n",
    "    bot_df.to_csv(bot_csv_path, index=False)\n",
    "    print(f\"Created '{bot_csv_path}' with labeled bot records.\")\n",
    "\n",
    "    # Save the human DataFrame to human.csv\n",
    "    human_df.to_csv(human_csv_path, index=False)\n",
    "    print(f\"Created '{human_csv_path}' with labeled human records.\")\n",
    "\n",
    "except FileNotFoundError:\n",
    "    print(f\"Error: The file '{labeled_csv_path}' was not found.\")\n",
    "except KeyError:\n",
    "    print(f\"Error: The 'label' column was not found in the file '{labeled_csv_path}'.\")\n",
    "except Exception as e:\n",
    "    print(f\"An error occurred: {e}\")"
   ],
   "metadata": {
    "colab": {
     "base_uri": "https://localhost:8080/"
    },
    "id": "vzYBO7SLgOLA",
    "outputId": "279b0260-26b0-43aa-9be9-31d368863e8b"
   },
   "execution_count": null,
   "outputs": [
    {
     "output_type": "stream",
     "name": "stderr",
     "text": [
      "<ipython-input-2-826fabb33d46>:8: DtypeWarning: Columns (20) have mixed types. Specify dtype option on import or set low_memory=False.\n",
      "  labeled_df = pd.read_csv(labeled_csv_path)\n"
     ]
    },
    {
     "output_type": "stream",
     "name": "stdout",
     "text": [
      "Created 'bot.csv' with labeled bot records.\n",
      "Created 'human.csv' with labeled human records.\n"
     ]
    }
   ]
  },
  {
   "cell_type": "markdown",
   "source": [
    "# Check how much unique ID's each label has #\n",
    "## Answer:##\n",
    "## * bots -> 6438  ##\n",
    "## * Humans -> 97850  ##"
   ],
   "metadata": {
    "id": "_euMf3sanLKK"
   }
  },
  {
   "cell_type": "code",
   "source": [
    "\n",
    "bot_csv_path = \"/content/bot.csv\"\n",
    "human_csv_path = \"/content/human.csv\"\n",
    "\n",
    "try:\n",
    "    # Read the CSV file into a DataFrame\n",
    "    df = pd.read_csv(bot_csv_path)\n",
    "\n",
    "    # Get the number of unique IDs\n",
    "    num_unique_ids = df['id'].nunique()\n",
    "    print(f\"The 'bot_sunset.csv' file contains {num_unique_ids} unique IDs.\")\n",
    "\n",
    "    df = pd.read_csv(human_csv_path)\n",
    "    num_unique_ids = df['id'].nunique()\n",
    "    print(f\"The 'human_sunset.csv' file contains {num_unique_ids} unique IDs.\")\n",
    "\n",
    "except FileNotFoundError:\n",
    "    print(f\"Error: The file '{labeled_csv_path}' was not found.\")\n",
    "except KeyError:\n",
    "    print(f\"Error: The 'id' column was not found in the file '{labeled_csv_path}'.\")\n",
    "except Exception as e:\n",
    "    print(f\"An error occurred: {e}\")"
   ],
   "metadata": {
    "colab": {
     "base_uri": "https://localhost:8080/"
    },
    "id": "Q6C6eSJQlzMf",
    "outputId": "8f15a351-b277-425b-f6a1-bcd1921a4d8a"
   },
   "execution_count": null,
   "outputs": [
    {
     "output_type": "stream",
     "name": "stdout",
     "text": [
      "The 'bot_sunset.csv' file contains 6438 unique IDs.\n"
     ]
    },
    {
     "output_type": "stream",
     "name": "stderr",
     "text": [
      "<ipython-input-6-a61f85fbb12e>:14: DtypeWarning: Columns (20) have mixed types. Specify dtype option on import or set low_memory=False.\n",
      "  df = pd.read_csv(human_csv_path)\n"
     ]
    },
    {
     "output_type": "stream",
     "name": "stdout",
     "text": [
      "The 'human_sunset.csv' file contains 97850 unique IDs.\n"
     ]
    }
   ]
  },
  {
   "cell_type": "code",
   "source": [],
   "metadata": {
    "id": "luFkfp4h3wyi"
   },
   "execution_count": null,
   "outputs": []
  }
 ]
}
