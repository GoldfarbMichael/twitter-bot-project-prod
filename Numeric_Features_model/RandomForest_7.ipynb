{
 "cells": [
  {
   "metadata": {},
   "cell_type": "markdown",
   "source": "# Imports #",
   "id": "8db40880202b18b6"
  },
  {
   "metadata": {
    "ExecuteTime": {
     "end_time": "2025-06-08T18:20:11.053797Z",
     "start_time": "2025-06-08T18:20:09.310686Z"
    }
   },
   "cell_type": "code",
   "source": [
    "import pandas as pd\n",
    "from sklearn.model_selection import train_test_split\n",
    "from sklearn.metrics import classification_report, roc_auc_score, precision_recall_curve\n",
    "from sklearn.model_selection import RandomizedSearchCV, StratifiedKFold\n",
    "from sklearn.ensemble import RandomForestClassifier\n",
    "\n"
   ],
   "id": "fbc121e30a2defb3",
   "outputs": [],
   "execution_count": 1
  },
  {
   "metadata": {
    "ExecuteTime": {
     "end_time": "2025-06-08T17:06:54.120459Z",
     "start_time": "2025-06-08T17:06:53.996653Z"
    }
   },
   "cell_type": "code",
   "source": [
    "df = pd.read_csv(\"../data/labeled_intersection.csv\")\n",
    "\n",
    "# Drop non-informative columns\n",
    "df = df.drop(columns=[\"userid\"], errors='ignore')\n",
    "\n",
    "# Separate features and target\n",
    "X = df.drop(columns=[\"label\"])\n",
    "y = df[\"label\"]\n",
    "\n",
    "# Check resulting shapes\n",
    "print(f\"X shape: {X.shape}\")\n",
    "print(f\"y distribution:\\n{y.value_counts(normalize=True)}\")\n",
    "# Train/test split\n",
    "X_train, X_test, y_train, y_test = train_test_split(\n",
    "    X, y, test_size=0.2, stratify=y, random_state=42\n",
    ")\n"
   ],
   "id": "eb84a23a284f596b",
   "outputs": [
    {
     "name": "stdout",
     "output_type": "stream",
     "text": [
      "X shape: (129302, 2)\n",
      "y distribution:\n",
      "label\n",
      "0    0.756756\n",
      "1    0.243244\n",
      "Name: proportion, dtype: float64\n"
     ]
    }
   ],
   "execution_count": 3
  },
  {
   "metadata": {},
   "cell_type": "markdown",
   "source": "# Random forest #",
   "id": "4d353aa9be5570ff"
  },
  {
   "metadata": {
    "ExecuteTime": {
     "end_time": "2025-06-08T17:26:38.157636Z",
     "start_time": "2025-06-08T17:09:00.018070Z"
    }
   },
   "cell_type": "code",
   "source": [
    "# Define Random Forest\n",
    "rf = RandomForestClassifier(\n",
    "    random_state=42,\n",
    "    class_weight=\"balanced\",  # handle imbalance\n",
    "    n_jobs=-1\n",
    ")\n",
    "\n",
    "# Hyperparameter grid\n",
    "param_dist = {\n",
    "    'n_estimators': [100, 300, 500],\n",
    "    'max_depth': [None, 10, 20, 30],\n",
    "    'min_samples_split': [2, 5, 10],\n",
    "    'min_samples_leaf': [1, 2, 4],\n",
    "    'max_features': ['sqrt', 'log2']\n",
    "}\n",
    "\n",
    "# Cross-validation setup\n",
    "cv = StratifiedKFold(n_splits=5, shuffle=True, random_state=42)\n",
    "\n",
    "# Randomized Search\n",
    "search = RandomizedSearchCV(\n",
    "    estimator=rf,\n",
    "    param_distributions=param_dist,\n",
    "    n_iter=30,\n",
    "    scoring='roc_auc',\n",
    "    cv=cv,\n",
    "    verbose=2,\n",
    "    random_state=42,\n",
    "    n_jobs=-1\n",
    ")\n",
    "\n",
    "# Fit the model\n",
    "search.fit(X_train, y_train)\n",
    "\n",
    "# Evaluate\n",
    "print(\"Best ROC AUC score on validation folds:\", search.best_score_)\n",
    "print(\"Best hyperparameters:\", search.best_params_)\n",
    "\n",
    "# Test set performance\n",
    "best_rf = search.best_estimator_\n",
    "y_pred = best_rf.predict(X_test)\n",
    "y_proba = best_rf.predict_proba(X_test)[:, 1]\n",
    "\n",
    "print(\"\\nTest ROC AUC score:\", roc_auc_score(y_test, y_proba))\n",
    "print(\"\\nClassification Report:\\n\", classification_report(y_test, y_pred))"
   ],
   "id": "31ea445b71dbd0a3",
   "outputs": [
    {
     "name": "stdout",
     "output_type": "stream",
     "text": [
      "Fitting 5 folds for each of 30 candidates, totalling 150 fits\n",
      "Best ROC AUC score on validation folds: 0.9050222545866202\n",
      "Best hyperparameters: {'n_estimators': 300, 'min_samples_split': 5, 'min_samples_leaf': 2, 'max_features': 'sqrt', 'max_depth': 10}\n",
      "\n",
      "Test ROC AUC score: 0.905178533673471\n",
      "\n",
      "Classification Report:\n",
      "               precision    recall  f1-score   support\n",
      "\n",
      "           0       0.94      0.83      0.88     19570\n",
      "           1       0.62      0.83      0.71      6291\n",
      "\n",
      "    accuracy                           0.83     25861\n",
      "   macro avg       0.78      0.83      0.80     25861\n",
      "weighted avg       0.86      0.83      0.84     25861\n",
      "\n"
     ]
    }
   ],
   "execution_count": 4
  },
  {
   "metadata": {},
   "cell_type": "markdown",
   "source": "# Save radnom forest model #",
   "id": "e0e4fae7535b3e76"
  },
  {
   "metadata": {
    "ExecuteTime": {
     "end_time": "2025-06-08T17:30:46.874121Z",
     "start_time": "2025-06-08T17:30:46.698576Z"
    }
   },
   "cell_type": "code",
   "source": [
    "import joblib\n",
    "\n",
    "# Save the trained model\n",
    "joblib.dump(best_rf, 'trained-model/random_forest_model.joblib')"
   ],
   "id": "478dc12de51ea1e7",
   "outputs": [
    {
     "data": {
      "text/plain": [
       "['random_forest_model.joblib']"
      ]
     },
     "execution_count": 5,
     "metadata": {},
     "output_type": "execute_result"
    }
   ],
   "execution_count": 5
  },
  {
   "metadata": {},
   "cell_type": "markdown",
   "source": "# Convert to random forest joblib cnnx for GPU usage #",
   "id": "46feccf088e0c2b"
  },
  {
   "metadata": {},
   "cell_type": "code",
   "outputs": [],
   "execution_count": null,
   "source": [
    "import joblib\n",
    "from skl2onnx import convert_sklearn\n",
    "from skl2onnx.common.data_types import FloatTensorType\n",
    "\n",
    "# === Load the model ===\n",
    "model = joblib.load('../Numeric_Features_model/trained-model/random_forest_model.joblib')\n",
    "\n",
    "# === Define input shape (2 features: followers, avg_retweetcount) ===\n",
    "initial_type = [('input', FloatTensorType([None, 2]))]\n",
    "\n",
    "# === Convert the model ===\n",
    "onnx_model = convert_sklearn(model, initial_types=initial_type)\n",
    "\n",
    "# === Save the ONNX model ===\n",
    "with open(\"../Numeric_Features_model/trained-model/rf_model.onnx\", \"wb\") as f:\n",
    "    f.write(onnx_model.SerializeToString())"
   ],
   "id": "6fdd6198a6b4f296"
  },
  {
   "metadata": {
    "ExecuteTime": {
     "end_time": "2025-06-05T11:45:56.850730Z",
     "start_time": "2025-06-05T11:45:56.774779Z"
    }
   },
   "cell_type": "code",
   "source": [
    "import gc\n",
    "del search\n",
    "del param_dist\n",
    "del y_pred\n",
    "del y_proba\n",
    "gc.collect()"
   ],
   "id": "81ffbf957b4e10ef",
   "outputs": [
    {
     "data": {
      "text/plain": [
       "1000"
      ]
     },
     "execution_count": 12,
     "metadata": {},
     "output_type": "execute_result"
    }
   ],
   "execution_count": 12
  }
 ],
 "metadata": {
  "kernelspec": {
   "display_name": "Python 3",
   "language": "python",
   "name": "python3"
  },
  "language_info": {
   "codemirror_mode": {
    "name": "ipython",
    "version": 2
   },
   "file_extension": ".py",
   "mimetype": "text/x-python",
   "name": "python",
   "nbconvert_exporter": "python",
   "pygments_lexer": "ipython2",
   "version": "2.7.6"
  }
 },
 "nbformat": 4,
 "nbformat_minor": 5
}
