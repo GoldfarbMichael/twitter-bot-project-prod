{
 "cells": [
  {
   "metadata": {
    "ExecuteTime": {
     "end_time": "2025-05-17T16:56:57.558148Z",
     "start_time": "2025-05-17T16:56:57.534110Z"
    }
   },
   "cell_type": "code",
   "source": [
    "import pandas as pd\n",
    "import torch\n",
    "from transformers import AutoTokenizer, AutoModelForSequenceClassification, TrainingArguments, Trainer\n",
    "from datasets import Dataset\n",
    "from sklearn.model_selection import train_test_split\n"
   ],
   "id": "fbc121e30a2defb3",
   "outputs": [],
   "execution_count": 13
  },
  {
   "metadata": {
    "ExecuteTime": {
     "end_time": "2025-05-17T16:56:58.746372Z",
     "start_time": "2025-05-17T16:56:57.608112Z"
    }
   },
   "cell_type": "code",
   "source": [
    "# Automatically use GPU if available\n",
    "device = torch.device(\"cuda\" if torch.cuda.is_available() else \"cpu\")\n",
    "print(\"Using device:\", device)\n",
    "\n",
    "MODEL_NAME = \"distilbert-base-uncased\"\n",
    "model = AutoModelForSequenceClassification.from_pretrained(MODEL_NAME, num_labels=2).to(device)\n"
   ],
   "id": "9d4301ef2bf0a2e7",
   "outputs": [
    {
     "name": "stdout",
     "output_type": "stream",
     "text": [
      "Using device: cuda\n"
     ]
    },
    {
     "name": "stderr",
     "output_type": "stream",
     "text": [
      "Some weights of DistilBertForSequenceClassification were not initialized from the model checkpoint at distilbert-base-uncased and are newly initialized: ['classifier.bias', 'classifier.weight', 'pre_classifier.bias', 'pre_classifier.weight']\n",
      "You should probably TRAIN this model on a down-stream task to be able to use it for predictions and inference.\n"
     ]
    }
   ],
   "execution_count": 14
  },
  {
   "metadata": {
    "ExecuteTime": {
     "end_time": "2025-05-17T16:56:58.794381Z",
     "start_time": "2025-05-17T16:56:58.781377Z"
    }
   },
   "cell_type": "code",
   "source": [
    "from sklearn.metrics import accuracy_score, precision_recall_fscore_support\n",
    "\n",
    "def tokenize_function(examples):\n",
    "    return tokenizer(\n",
    "        examples[\"acctdesc\"],\n",
    "        padding=\"max_length\",\n",
    "        truncation=True,\n",
    "        max_length=128  # safe for bios and RAM\n",
    "    )\n",
    "\n",
    "def compute_metrics(pred):\n",
    "    labels = pred.label_ids\n",
    "    preds = pred.predictions.argmax(-1)\n",
    "    precision, recall, f1, _ = precision_recall_fscore_support(labels, preds, average='binary')\n",
    "    acc = accuracy_score(labels, preds)\n",
    "    return {\n",
    "        'accuracy': acc,\n",
    "        'f1': f1,\n",
    "        'precision': precision,\n",
    "        'recall': recall\n",
    "    }"
   ],
   "id": "8e15d638af82fcc3",
   "outputs": [],
   "execution_count": 15
  },
  {
   "metadata": {
    "ExecuteTime": {
     "end_time": "2025-05-17T16:58:06.205804Z",
     "start_time": "2025-05-17T16:56:58.830393Z"
    }
   },
   "cell_type": "code",
   "source": [
    "file_path = '../data/labeled_sunset.csv'\n",
    "df = pd.read_csv(file_path)\n",
    "\n",
    "# To view the first few rows of the dataframe\n",
    "print(df.head())"
   ],
   "id": "25e515e5561219fc",
   "outputs": [
    {
     "name": "stderr",
     "output_type": "stream",
     "text": [
      "C:\\Users\\micha\\AppData\\Local\\Temp\\ipykernel_16752\\2886420860.py:2: DtypeWarning: Columns (20) have mixed types. Specify dtype option on import or set low_memory=False.\n",
      "  df = pd.read_csv(file_path)\n"
     ]
    },
    {
     "name": "stdout",
     "output_type": "stream",
     "text": [
      "   Unnamed: 0              userid       username  \\\n",
      "0           3            22240612  AlArabiya_Eng   \n",
      "1           4             6135622     dw_espanol   \n",
      "2           5  848416437030985728   ChangshaCity   \n",
      "3           8  984429894829592576   pulsoguayaco   \n",
      "4           9  807095565028917248  linjianyangbe   \n",
      "\n",
      "                                            acctdesc  \\\n",
      "0  The Arab world’s leading source of global news...   \n",
      "1  Desde Alemania para América Latina. Todo lo qu...   \n",
      "2  Changsha, the capital of central China’s Hunan...   \n",
      "3  🌐✈Blog de aviación, viajes y economía para via...   \n",
      "4  Nature heals. Birding in China: best photos+vi...   \n",
      "\n",
      "                     location  following  followers  totaltweets  \\\n",
      "0                       Dubai         46     921780       324925   \n",
      "1             Berlin, Germany        160    1266110       157669   \n",
      "2  People's Republic of China        261      47826         3634   \n",
      "3                        🇪🇨🇺🇸         75        326        14487   \n",
      "4                       China      12629      19112         6718   \n",
      "\n",
      "                usercreatedts              tweetid  ... in_reply_to_status_id  \\\n",
      "0  2009-02-28 08:31:32.000000  1567301623294164997  ...                     0   \n",
      "1  2007-05-18 11:40:24.000000  1567301623310913538  ...                     0   \n",
      "2  2017-04-02 06:06:56.000000  1567301623772110848  ...                     0   \n",
      "3  2018-04-12 13:55:51.000000  1567301624531275776  ...                     0   \n",
      "4  2016-12-09 05:32:32.000000  1567301624967618562  ...                     0   \n",
      "\n",
      "   in_reply_to_user_id in_reply_to_screen_name is_quote_status  \\\n",
      "0                    0                     NaN           False   \n",
      "1                    0                     NaN           False   \n",
      "2                    0                     NaN           False   \n",
      "3                    0                     NaN           False   \n",
      "4                    0                     NaN           False   \n",
      "\n",
      "  quoted_status_id quoted_status_userid  quoted_status_username  \\\n",
      "0                0                    0                     NaN   \n",
      "1                0                    0                     NaN   \n",
      "2                0                    0                     NaN   \n",
      "3                0                    0                     NaN   \n",
      "4                0                    0                     NaN   \n",
      "\n",
      "                  extractedts            id  label  \n",
      "0  2022-09-07 05:01:02.893020  2.224061e+07  human  \n",
      "1  2022-09-07 10:06:45.585367  6.135622e+06  human  \n",
      "2  2022-09-07 03:15:12.921515  8.484164e+17  human  \n",
      "3  2022-09-07 10:06:45.564494  9.844299e+17  human  \n",
      "4  2022-09-07 03:15:12.800454  8.070956e+17  human  \n",
      "\n",
      "[5 rows x 31 columns]\n"
     ]
    }
   ],
   "execution_count": 16
  },
  {
   "metadata": {
    "ExecuteTime": {
     "end_time": "2025-05-17T16:58:07.303759Z",
     "start_time": "2025-05-17T16:58:06.256806Z"
    }
   },
   "cell_type": "code",
   "source": [
    "# Map string labels to numeric\n",
    "df = df.drop_duplicates(subset=['id'], keep='first').copy()\n",
    "df_clean = df[[\"acctdesc\", \"label\"]].dropna()\n",
    "label_map = {\"human\": 0, \"bot\": 1}\n",
    "df_clean[\"label\"] = df_clean[\"label\"].map(label_map)\n",
    "\n",
    "# Check result\n",
    "print(df_clean[\"label\"].value_counts())\n",
    "\n",
    "# Drop rows with missing descriptions\n",
    "df_clean = df_clean.dropna(subset=[\"acctdesc\"]).copy()\n",
    "\n",
    "# Optional: convert labels to int (in case they're strings)\n",
    "df_clean['label'] = df_clean['label'].astype(int)\n",
    "\n",
    "# Check balance\n",
    "print(df_clean['label'].value_counts())\n"
   ],
   "id": "bd8988c4721ea45d",
   "outputs": [
    {
     "name": "stdout",
     "output_type": "stream",
     "text": [
      "label\n",
      "0    92940\n",
      "1     5336\n",
      "Name: count, dtype: int64\n",
      "label\n",
      "0    92940\n",
      "1     5336\n",
      "Name: count, dtype: int64\n"
     ]
    }
   ],
   "execution_count": 17
  },
  {
   "metadata": {
    "ExecuteTime": {
     "end_time": "2025-05-17T16:58:07.685818Z",
     "start_time": "2025-05-17T16:58:07.354763Z"
    }
   },
   "cell_type": "code",
   "source": [
    "# Split first\n",
    "train_df, test_df = train_test_split(\n",
    "    df_clean, test_size=0.2, stratify=df_clean[\"label\"], random_state=42\n",
    ")\n",
    "\n",
    "# Oversample only training bots\n",
    "bots_train = train_df[train_df[\"label\"] == 1]\n",
    "humans_train = train_df[train_df[\"label\"] == 0]\n",
    "\n",
    "bots_oversampled = bots_train.sample(n=30000, replace=True, random_state=42)\n",
    "del train_df\n",
    "del df_clean\n",
    "# Combine and shuffle\n",
    "train_balanced = pd.concat([humans_train, bots_oversampled]).sample(frac=1.0, random_state=42).reset_index(drop=True)\n",
    "\n",
    "# Convert to Hugging Face Dataset\n",
    "train_dataset = Dataset.from_pandas(train_balanced)\n",
    "test_dataset = Dataset.from_pandas(test_df)\n",
    "del train_balanced\n",
    "del test_df"
   ],
   "id": "5114c810ba063324",
   "outputs": [],
   "execution_count": 18
  },
  {
   "metadata": {
    "ExecuteTime": {
     "end_time": "2025-05-17T16:58:24.944587Z",
     "start_time": "2025-05-17T16:58:07.735760Z"
    }
   },
   "cell_type": "code",
   "source": [
    "tokenizer = AutoTokenizer.from_pretrained(\"bert-base-uncased\")\n",
    "\n",
    "train_tokenized = train_dataset.map(tokenize_function, batched=True)\n",
    "val_tokenized = test_dataset.map(tokenize_function, batched=True)\n",
    "\n",
    "\n",
    "train_tokenized.save_to_disk(\"tokenized_data_train_balanced/train\")\n",
    "val_tokenized.save_to_disk(\"tokenized_data_train_balanced/test\")"
   ],
   "id": "ce317d9d2d705a41",
   "outputs": [
    {
     "name": "stderr",
     "output_type": "stream",
     "text": [
      "Map: 100%|██████████| 104351/104351 [00:14<00:00, 7418.52 examples/s]\n",
      "Map: 100%|██████████| 19656/19656 [00:02<00:00, 7530.94 examples/s]\n",
      "Saving the dataset (1/1 shards): 100%|██████████| 104351/104351 [00:00<00:00, 622522.23 examples/s]\n",
      "Saving the dataset (1/1 shards): 100%|██████████| 19656/19656 [00:00<00:00, 504542.41 examples/s]\n"
     ]
    }
   ],
   "execution_count": 19
  },
  {
   "metadata": {
    "ExecuteTime": {
     "end_time": "2025-05-17T19:11:18.871271Z",
     "start_time": "2025-05-17T16:58:24.995588Z"
    }
   },
   "cell_type": "code",
   "source": [
    "training_args = TrainingArguments(\n",
    "    output_dir=\"./trained-model\",\n",
    "    eval_strategy=\"epoch\",\n",
    "    save_strategy=\"epoch\",\n",
    "    logging_strategy=\"epoch\",\n",
    "    per_device_train_batch_size=16,\n",
    "    per_device_eval_batch_size=16,\n",
    "    num_train_epochs=3,\n",
    "    learning_rate=2e-5,\n",
    "    load_best_model_at_end=True,\n",
    "    metric_for_best_model=\"f1\",\n",
    "    save_total_limit=1,\n",
    "    report_to=\"none\"  # avoids TensorBoard warnings in Colab\n",
    ")\n",
    "\n",
    "trainer = Trainer(\n",
    "    model=model,\n",
    "    args=training_args,\n",
    "    train_dataset=train_tokenized,\n",
    "    eval_dataset=val_tokenized,\n",
    "    tokenizer=tokenizer,\n",
    "    compute_metrics=compute_metrics\n",
    ")\n",
    "trainer.train()\n",
    "\n"
   ],
   "id": "f547dae8f5bdcc34",
   "outputs": [
    {
     "name": "stderr",
     "output_type": "stream",
     "text": [
      "C:\\Users\\micha\\AppData\\Local\\Temp\\ipykernel_16752\\1461447645.py:16: FutureWarning: `tokenizer` is deprecated and will be removed in version 5.0.0 for `Trainer.__init__`. Use `processing_class` instead.\n",
      "  trainer = Trainer(\n"
     ]
    },
    {
     "data": {
      "text/plain": [
       "<IPython.core.display.HTML object>"
      ],
      "text/html": [
       "\n",
       "    <div>\n",
       "      \n",
       "      <progress value='18441' max='18441' style='width:300px; height:20px; vertical-align: middle;'></progress>\n",
       "      [18441/18441 2:12:52, Epoch 3/3]\n",
       "    </div>\n",
       "    <table border=\"1\" class=\"dataframe\">\n",
       "  <thead>\n",
       " <tr style=\"text-align: left;\">\n",
       "      <th>Epoch</th>\n",
       "      <th>Training Loss</th>\n",
       "      <th>Validation Loss</th>\n",
       "      <th>Accuracy</th>\n",
       "      <th>F1</th>\n",
       "      <th>Precision</th>\n",
       "      <th>Recall</th>\n",
       "    </tr>\n",
       "  </thead>\n",
       "  <tbody>\n",
       "    <tr>\n",
       "      <td>1</td>\n",
       "      <td>0.394400</td>\n",
       "      <td>0.219112</td>\n",
       "      <td>0.918782</td>\n",
       "      <td>0.832621</td>\n",
       "      <td>0.856970</td>\n",
       "      <td>0.809617</td>\n",
       "    </tr>\n",
       "    <tr>\n",
       "      <td>2</td>\n",
       "      <td>0.160300</td>\n",
       "      <td>0.180762</td>\n",
       "      <td>0.953961</td>\n",
       "      <td>0.910429</td>\n",
       "      <td>0.884669</td>\n",
       "      <td>0.937734</td>\n",
       "    </tr>\n",
       "    <tr>\n",
       "      <td>3</td>\n",
       "      <td>0.071100</td>\n",
       "      <td>0.173906</td>\n",
       "      <td>0.964820</td>\n",
       "      <td>0.931289</td>\n",
       "      <td>0.908274</td>\n",
       "      <td>0.955501</td>\n",
       "    </tr>\n",
       "  </tbody>\n",
       "</table><p>"
      ]
     },
     "metadata": {},
     "output_type": "display_data"
    },
    {
     "data": {
      "text/plain": [
       "TrainOutput(global_step=18441, training_loss=0.2086014249863797, metrics={'train_runtime': 7973.4151, 'train_samples_per_second': 37.005, 'train_steps_per_second': 2.313, 'total_flos': 9771325194461184.0, 'train_loss': 0.2086014249863797, 'epoch': 3.0})"
      ]
     },
     "execution_count": 20,
     "metadata": {},
     "output_type": "execute_result"
    }
   ],
   "execution_count": 20
  },
  {
   "metadata": {
    "ExecuteTime": {
     "end_time": "2025-05-17T19:50:09.930328Z",
     "start_time": "2025-05-17T19:50:09.477202Z"
    }
   },
   "cell_type": "code",
   "source": "trainer.save_model(\"models/trained_userdesc_v1\")\n",
   "id": "a6d6ceab340c3e5d",
   "outputs": [],
   "execution_count": 21
  }
 ],
 "metadata": {
  "kernelspec": {
   "display_name": "Python 3",
   "language": "python",
   "name": "python3"
  },
  "language_info": {
   "codemirror_mode": {
    "name": "ipython",
    "version": 2
   },
   "file_extension": ".py",
   "mimetype": "text/x-python",
   "name": "python",
   "nbconvert_exporter": "python",
   "pygments_lexer": "ipython2",
   "version": "2.7.6"
  }
 },
 "nbformat": 4,
 "nbformat_minor": 5
}
